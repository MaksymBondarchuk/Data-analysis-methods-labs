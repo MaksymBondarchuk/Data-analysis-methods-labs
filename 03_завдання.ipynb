{
 "cells": [
  {
   "cell_type": "markdown",
   "metadata": {},
   "source": [
    "# pandas\n",
    "Цей зошит призначений для навчання основним прийомам роботи з типом даних DataFrame бібліотеки pandas. Під час навчання необхідно використати способи доступу до даних, які уже відомі вам з лекційного курсу. Навчання будемо проводити на конкретному прикладі.\n",
    "### Умова задачі\n",
    "Ми зупинили десять людей на вулиці і запитали їх, які у них домашні тварини. Ми також зафіксували стать та вік людини. В результаті сформували структуру даних pets."
   ]
  },
  {
   "cell_type": "code",
   "execution_count": 2,
   "metadata": {},
   "outputs": [],
   "source": [
    "import numpy as np\n",
    "import pandas as pd"
   ]
  },
  {
   "cell_type": "code",
   "execution_count": 3,
   "metadata": {},
   "outputs": [],
   "source": [
    "pets = pd.DataFrame({'sex': np.array(['M', 'M', 'F', 'M', 'F', 'F', 'F', 'M', 'F', 'M']),\n",
    "                   'age': np.array([21, 45, 23, 56, 47, 70, 34, 30, 19, 62]),\n",
    "                   'pets': np.array([['cat', 'dog'],\n",
    "                                    ['hamster'],\n",
    "                                    ['cat', 'gerbil'],\n",
    "                                    ['fish', 'hamster', 'gerbil'],\n",
    "                                    ['cat'],\n",
    "                                    ['dog'],\n",
    "                                    ['dog'],\n",
    "                                    ['cat'],\n",
    "                                    ['rabbit', 'cat'],\n",
    "                                    ['dog']])})"
   ]
  },
  {
   "cell_type": "markdown",
   "metadata": {},
   "source": [
    "Використовуючи зібрані дані, необхідно проаналізувати їх і на основі нашого опитування дати відповідь на такі запитання:\n",
    "\n",
    "* Якої статі був наймолодший респондент?\n",
    "* У якому віці була людина з найбільшою кількістю домашніх тварин?\n",
    "* Яка тварина є найпопулярнішим вихованцем?\n",
    "* Який був середній вік власників собак?\n"
   ]
  },
  {
   "cell_type": "markdown",
   "metadata": {},
   "source": [
    "По-перше, давайте просто розглянемо дані. Наш набір даних не дуже великий, тому насправді навіть не потрібно використовувати head(). Одержимо вивід даних, запустивши на виконання код Python у наступній комірці.\n",
    "Нагадування: Запуск коду - натиснути \"Run\" або \"Shift+Enter\"."
   ]
  },
  {
   "cell_type": "code",
   "execution_count": 4,
   "metadata": {},
   "outputs": [
    {
     "data": {
      "text/html": [
       "<div>\n",
       "<style scoped>\n",
       "    .dataframe tbody tr th:only-of-type {\n",
       "        vertical-align: middle;\n",
       "    }\n",
       "\n",
       "    .dataframe tbody tr th {\n",
       "        vertical-align: top;\n",
       "    }\n",
       "\n",
       "    .dataframe thead th {\n",
       "        text-align: right;\n",
       "    }\n",
       "</style>\n",
       "<table border=\"1\" class=\"dataframe\">\n",
       "  <thead>\n",
       "    <tr style=\"text-align: right;\">\n",
       "      <th></th>\n",
       "      <th>sex</th>\n",
       "      <th>age</th>\n",
       "      <th>pets</th>\n",
       "    </tr>\n",
       "  </thead>\n",
       "  <tbody>\n",
       "    <tr>\n",
       "      <td>0</td>\n",
       "      <td>M</td>\n",
       "      <td>21</td>\n",
       "      <td>[cat, dog]</td>\n",
       "    </tr>\n",
       "    <tr>\n",
       "      <td>1</td>\n",
       "      <td>M</td>\n",
       "      <td>45</td>\n",
       "      <td>[hamster]</td>\n",
       "    </tr>\n",
       "    <tr>\n",
       "      <td>2</td>\n",
       "      <td>F</td>\n",
       "      <td>23</td>\n",
       "      <td>[cat, gerbil]</td>\n",
       "    </tr>\n",
       "    <tr>\n",
       "      <td>3</td>\n",
       "      <td>M</td>\n",
       "      <td>56</td>\n",
       "      <td>[fish, hamster, gerbil]</td>\n",
       "    </tr>\n",
       "    <tr>\n",
       "      <td>4</td>\n",
       "      <td>F</td>\n",
       "      <td>47</td>\n",
       "      <td>[cat]</td>\n",
       "    </tr>\n",
       "    <tr>\n",
       "      <td>5</td>\n",
       "      <td>F</td>\n",
       "      <td>70</td>\n",
       "      <td>[dog]</td>\n",
       "    </tr>\n",
       "    <tr>\n",
       "      <td>6</td>\n",
       "      <td>F</td>\n",
       "      <td>34</td>\n",
       "      <td>[dog]</td>\n",
       "    </tr>\n",
       "    <tr>\n",
       "      <td>7</td>\n",
       "      <td>M</td>\n",
       "      <td>30</td>\n",
       "      <td>[cat]</td>\n",
       "    </tr>\n",
       "    <tr>\n",
       "      <td>8</td>\n",
       "      <td>F</td>\n",
       "      <td>19</td>\n",
       "      <td>[rabbit, cat]</td>\n",
       "    </tr>\n",
       "    <tr>\n",
       "      <td>9</td>\n",
       "      <td>M</td>\n",
       "      <td>62</td>\n",
       "      <td>[dog]</td>\n",
       "    </tr>\n",
       "  </tbody>\n",
       "</table>\n",
       "</div>"
      ],
      "text/plain": [
       "  sex  age                     pets\n",
       "0   M   21               [cat, dog]\n",
       "1   M   45                [hamster]\n",
       "2   F   23            [cat, gerbil]\n",
       "3   M   56  [fish, hamster, gerbil]\n",
       "4   F   47                    [cat]\n",
       "5   F   70                    [dog]\n",
       "6   F   34                    [dog]\n",
       "7   M   30                    [cat]\n",
       "8   F   19            [rabbit, cat]\n",
       "9   M   62                    [dog]"
      ]
     },
     "execution_count": 4,
     "metadata": {},
     "output_type": "execute_result"
    }
   ],
   "source": [
    "pets"
   ]
  },
  {
   "cell_type": "markdown",
   "metadata": {},
   "source": [
    "Зверніть увагу також і на те, як в зошиті гарно представлено дані за замовчуванням для типу DataFrames. Крім того, ми можемо таке представлення редагувати для своїх потреб! Проте ми не будемо виконувати ці дії в рамках даної практичної роботи. Відповімо по черзі на поставлені запитання."
   ]
  },
  {
   "cell_type": "markdown",
   "metadata": {},
   "source": [
    "## Якої статі був наймолодший респондент?\n",
    "Підказка. Тут ви можете ефективно застосувати метод .loc. Подумайте над тим, як представити це завдання у вигляді двох умов: створення булевого індексу, який відповідає значенням True, де значення у віковій колонці, що дорівнює мінімуму стовпця віку. Потім для  вибраного запису проаналізуйте колонку статі. Код запишіть в комірці нижче."
   ]
  },
  {
   "cell_type": "code",
   "execution_count": 5,
   "metadata": {},
   "outputs": [
    {
     "data": {
      "text/plain": [
       "'F'"
      ]
     },
     "execution_count": 5,
     "metadata": {},
     "output_type": "execute_result"
    }
   ],
   "source": [
    "# one line of code\n",
    "pets.loc[pets['age'].idxmin()]['sex']"
   ]
  },
  {
   "cell_type": "markdown",
   "metadata": {},
   "source": [
    "Якщо ви правильно записали код, то наймолодший респондент - жінка (F)."
   ]
  },
  {
   "cell_type": "markdown",
   "metadata": {},
   "source": [
    "## У якому віці була людина з найбільшою кількістю домашніх тварин?\n",
    "Підказка: спочатку створіть новий стовпець в структурі DataFrame і назвіть це «num_pets», який міститиме число тварин у даного респондента. Знайдіть максимум у цьому стовпці і виведіть вік відповідного респондента. Код запишіть у комірці нижче."
   ]
  },
  {
   "cell_type": "code",
   "execution_count": 6,
   "metadata": {},
   "outputs": [],
   "source": [
    "# task: create new column 'num_pets' which contains the number of pets\n",
    "# each person had (hint: this is the length of each list in the pets column)\n",
    "# one line of code here:\n",
    "pets['num_pets'] = pets['pets'].str.len()"
   ]
  },
  {
   "cell_type": "code",
   "execution_count": 7,
   "metadata": {
    "scrolled": true
   },
   "outputs": [
    {
     "data": {
      "text/html": [
       "<div>\n",
       "<style scoped>\n",
       "    .dataframe tbody tr th:only-of-type {\n",
       "        vertical-align: middle;\n",
       "    }\n",
       "\n",
       "    .dataframe tbody tr th {\n",
       "        vertical-align: top;\n",
       "    }\n",
       "\n",
       "    .dataframe thead th {\n",
       "        text-align: right;\n",
       "    }\n",
       "</style>\n",
       "<table border=\"1\" class=\"dataframe\">\n",
       "  <thead>\n",
       "    <tr style=\"text-align: right;\">\n",
       "      <th></th>\n",
       "      <th>sex</th>\n",
       "      <th>age</th>\n",
       "      <th>pets</th>\n",
       "      <th>num_pets</th>\n",
       "    </tr>\n",
       "  </thead>\n",
       "  <tbody>\n",
       "    <tr>\n",
       "      <td>0</td>\n",
       "      <td>M</td>\n",
       "      <td>21</td>\n",
       "      <td>[cat, dog]</td>\n",
       "      <td>2</td>\n",
       "    </tr>\n",
       "    <tr>\n",
       "      <td>1</td>\n",
       "      <td>M</td>\n",
       "      <td>45</td>\n",
       "      <td>[hamster]</td>\n",
       "      <td>1</td>\n",
       "    </tr>\n",
       "    <tr>\n",
       "      <td>2</td>\n",
       "      <td>F</td>\n",
       "      <td>23</td>\n",
       "      <td>[cat, gerbil]</td>\n",
       "      <td>2</td>\n",
       "    </tr>\n",
       "    <tr>\n",
       "      <td>3</td>\n",
       "      <td>M</td>\n",
       "      <td>56</td>\n",
       "      <td>[fish, hamster, gerbil]</td>\n",
       "      <td>3</td>\n",
       "    </tr>\n",
       "    <tr>\n",
       "      <td>4</td>\n",
       "      <td>F</td>\n",
       "      <td>47</td>\n",
       "      <td>[cat]</td>\n",
       "      <td>1</td>\n",
       "    </tr>\n",
       "    <tr>\n",
       "      <td>5</td>\n",
       "      <td>F</td>\n",
       "      <td>70</td>\n",
       "      <td>[dog]</td>\n",
       "      <td>1</td>\n",
       "    </tr>\n",
       "    <tr>\n",
       "      <td>6</td>\n",
       "      <td>F</td>\n",
       "      <td>34</td>\n",
       "      <td>[dog]</td>\n",
       "      <td>1</td>\n",
       "    </tr>\n",
       "    <tr>\n",
       "      <td>7</td>\n",
       "      <td>M</td>\n",
       "      <td>30</td>\n",
       "      <td>[cat]</td>\n",
       "      <td>1</td>\n",
       "    </tr>\n",
       "    <tr>\n",
       "      <td>8</td>\n",
       "      <td>F</td>\n",
       "      <td>19</td>\n",
       "      <td>[rabbit, cat]</td>\n",
       "      <td>2</td>\n",
       "    </tr>\n",
       "    <tr>\n",
       "      <td>9</td>\n",
       "      <td>M</td>\n",
       "      <td>62</td>\n",
       "      <td>[dog]</td>\n",
       "      <td>1</td>\n",
       "    </tr>\n",
       "  </tbody>\n",
       "</table>\n",
       "</div>"
      ],
      "text/plain": [
       "  sex  age                     pets  num_pets\n",
       "0   M   21               [cat, dog]         2\n",
       "1   M   45                [hamster]         1\n",
       "2   F   23            [cat, gerbil]         2\n",
       "3   M   56  [fish, hamster, gerbil]         3\n",
       "4   F   47                    [cat]         1\n",
       "5   F   70                    [dog]         1\n",
       "6   F   34                    [dog]         1\n",
       "7   M   30                    [cat]         1\n",
       "8   F   19            [rabbit, cat]         2\n",
       "9   M   62                    [dog]         1"
      ]
     },
     "execution_count": 7,
     "metadata": {},
     "output_type": "execute_result"
    }
   ],
   "source": [
    "# view the DataFrame again to check our new column is there\n",
    "pets"
   ]
  },
  {
   "cell_type": "code",
   "execution_count": 8,
   "metadata": {},
   "outputs": [
    {
     "data": {
      "text/plain": [
       "3    56\n",
       "Name: age, dtype: int32"
      ]
     },
     "execution_count": 8,
     "metadata": {},
     "output_type": "execute_result"
    }
   ],
   "source": [
    "# вже було написано викладачем\n",
    "pets.loc[pets['num_pets'] == max(pets['num_pets']), 'age']"
   ]
  },
  {
   "cell_type": "markdown",
   "metadata": {},
   "source": [
    "Правильна відповідь: людині з найбільшою кількістю домашніх тварин було 56 років."
   ]
  },
  {
   "cell_type": "markdown",
   "metadata": {},
   "source": [
    "## Яка тварина є найпопулярнішим вихованцем?\n",
    "Це дуже цікаве запитання,оскільки наші дані про тварин групуються не по колонці тварин, а по респондентах. Нам зараз потрібно ввійти в колонку з домашніми тваринами, щоб підрахувати кожен тип тварин.  Для виконання цього завдання потрібно відійти від традиційного програмістського підходу і використати потужний механізм групування бібліотеки pandas. Початковий код цієї технології наведено в наступній комірці. Нижче наведіть завершальний код."
   ]
  },
  {
   "cell_type": "code",
   "execution_count": 10,
   "metadata": {},
   "outputs": [
    {
     "data": {
      "text/plain": [
       "0         cat\n",
       "1         dog\n",
       "2     hamster\n",
       "3         cat\n",
       "4      gerbil\n",
       "5        fish\n",
       "6     hamster\n",
       "7      gerbil\n",
       "8         cat\n",
       "9         dog\n",
       "10        dog\n",
       "11        cat\n",
       "12     rabbit\n",
       "13        cat\n",
       "14        dog\n",
       "dtype: object"
      ]
     },
     "execution_count": 10,
     "metadata": {},
     "output_type": "execute_result"
    }
   ],
   "source": [
    "pet_series = pets['pets'].apply(pd.Series).stack().reset_index(drop=True)\n",
    "pet_series"
   ]
  },
  {
   "cell_type": "code",
   "execution_count": 11,
   "metadata": {},
   "outputs": [
    {
     "data": {
      "text/plain": [
       "cat        5\n",
       "dog        4\n",
       "hamster    2\n",
       "gerbil     2\n",
       "rabbit     1\n",
       "fish       1\n",
       "dtype: int64"
      ]
     },
     "execution_count": 11,
     "metadata": {},
     "output_type": "execute_result"
    }
   ],
   "source": [
    "# task: produce an ordered count of each animal\n",
    "# one line of code here:\n",
    "pet_series.value_counts()"
   ]
  },
  {
   "cell_type": "markdown",
   "metadata": {},
   "source": [
    "Відповідь: кішка - найпопулярніша домашня тварина."
   ]
  },
  {
   "cell_type": "markdown",
   "metadata": {},
   "source": [
    "## Який був середній вік власників собак?\n",
    "\n",
    "Підказка: знову ж таки, вам може бути корисно використовувати функцію лямбда для створення булевого індексу, який дорівнює True, якщо респондент сказав, що він має собаку, а в іншому - False. Код запишіть в комірці нижче."
   ]
  },
  {
   "cell_type": "code",
   "execution_count": 12,
   "metadata": {},
   "outputs": [
    {
     "data": {
      "text/plain": [
       "(True, False)"
      ]
     },
     "execution_count": 12,
     "metadata": {},
     "output_type": "execute_result"
    }
   ],
   "source": [
    "# example\n",
    "('dog' in ['dog', 'cat'], 'dog' in ['rabbit'])"
   ]
  },
  {
   "cell_type": "code",
   "execution_count": 13,
   "metadata": {},
   "outputs": [
    {
     "data": {
      "text/plain": [
       "46.75"
      ]
     },
     "execution_count": 13,
     "metadata": {},
     "output_type": "execute_result"
    }
   ],
   "source": [
    "# task: use a lambda function to test whether 'dog' is contained in each list of animals,\n",
    "# extract the age column and then chain the mean method to calculate the average age.\n",
    "# one line of code here:\n",
    "pets[pets['pets'].apply(lambda p: 'dog' in p).reset_index(drop=True)]['age'].mean()"
   ]
  },
  {
   "cell_type": "markdown",
   "metadata": {},
   "source": [
    "# Висновок\n",
    "\n",
    "Ми маємо зрозуміти, що бібліотека pandas може обробляти табличні дані, де кожен стовпець може мати різний тип (наприклад, стать - це символ, а вік - це число). Крім того, бібліотека pandas має потужні методи для отримання зрізів та вибору даних. Це дає можливість одержати відповідь на складні питання, використовуючи порівняно невеликий код."
   ]
  }
 ],
 "metadata": {
  "kernelspec": {
   "display_name": "Python 3",
   "language": "python",
   "name": "python3"
  },
  "language_info": {
   "codemirror_mode": {
    "name": "ipython",
    "version": 3
   },
   "file_extension": ".py",
   "mimetype": "text/x-python",
   "name": "python",
   "nbconvert_exporter": "python",
   "pygments_lexer": "ipython3",
   "version": "3.7.4"
  }
 },
 "nbformat": 4,
 "nbformat_minor": 2
}
