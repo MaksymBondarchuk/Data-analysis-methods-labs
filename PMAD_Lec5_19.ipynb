{
 "cells": [
  {
   "cell_type": "markdown",
   "metadata": {},
   "source": [
    "# Приклад роботи з Pandas в середовищі для Jupyter notebook"
   ]
  },
  {
   "cell_type": "markdown",
   "metadata": {},
   "source": [
    "#### 1. В середовищі Anaconda (меню:Environments) установіть пакет pandas-datareader"
   ]
  },
  {
   "cell_type": "code",
   "execution_count": null,
   "metadata": {},
   "outputs": [],
   "source": [
    "import numpy as np\n",
    "import pandas as pd\n",
    "%matplotlib inline\n",
    "import matplotlib.pyplot as plt\n",
    "import pandas_datareader as pdr\n",
    "from statistics import *"
   ]
  },
  {
   "cell_type": "markdown",
   "metadata": {},
   "source": [
    "####  2. Скачуємо інформацію про діяльність Google та Amazon за останні роки (Nasdaq-GS)"
   ]
  },
  {
   "cell_type": "code",
   "execution_count": null,
   "metadata": {},
   "outputs": [],
   "source": [
    "amzn=pdr.get_data_yahoo('AMZN', '20121101')\n",
    "goog=pdr.get_data_yahoo('GOOG', '2012-11-01')"
   ]
  },
  {
   "cell_type": "markdown",
   "metadata": {},
   "source": [
    "#### 3. Перегляд зчитаних даних: початкова частина, кінцева частина, інформація"
   ]
  },
  {
   "cell_type": "markdown",
   "metadata": {},
   "source": [
    "Зчитування за замовчуванням перших 5 рядків"
   ]
  },
  {
   "cell_type": "code",
   "execution_count": null,
   "metadata": {},
   "outputs": [],
   "source": [
    "amzn.head()"
   ]
  },
  {
   "cell_type": "markdown",
   "metadata": {},
   "source": [
    "Зчитування заданої кількості початкових рядків"
   ]
  },
  {
   "cell_type": "code",
   "execution_count": null,
   "metadata": {},
   "outputs": [],
   "source": [
    "amzn.head(10)"
   ]
  },
  {
   "cell_type": "markdown",
   "metadata": {},
   "source": [
    "Зчитування прикінцевих 5 рядків"
   ]
  },
  {
   "cell_type": "code",
   "execution_count": null,
   "metadata": {},
   "outputs": [],
   "source": [
    "amzn.tail()"
   ]
  },
  {
   "cell_type": "markdown",
   "metadata": {},
   "source": [
    "Інформація про набір даних, яка включає інформацію про кількість записів у стовпцях"
   ]
  },
  {
   "cell_type": "code",
   "execution_count": null,
   "metadata": {},
   "outputs": [],
   "source": [
    "amzn.info()"
   ]
  },
  {
   "cell_type": "markdown",
   "metadata": {},
   "source": [
    "Інформація про два набори даних, які зчитуємо одночасно"
   ]
  },
  {
   "cell_type": "code",
   "execution_count": null,
   "metadata": {},
   "outputs": [],
   "source": [
    "print(amzn.info(), goog.info())"
   ]
  },
  {
   "cell_type": "markdown",
   "metadata": {},
   "source": [
    "####  4. Фільтрування з використанням .loc,.iloc, index "
   ]
  },
  {
   "cell_type": "markdown",
   "metadata": {},
   "source": [
    "Відкриваємо тільки ціну акцій на момент закриття біржі"
   ]
  },
  {
   "cell_type": "code",
   "execution_count": null,
   "metadata": {},
   "outputs": [],
   "source": [
    "amzn['Close']"
   ]
  },
  {
   "cell_type": "markdown",
   "metadata": {},
   "source": [
    "Для більш точного виводу скористаємось методом .loc з параметрами. Перший параметр - це зріз, який вказує діапазон рядків, а другий параметр - це назва стовпця таблиці"
   ]
  },
  {
   "cell_type": "code",
   "execution_count": null,
   "metadata": {},
   "outputs": [],
   "source": [
    "amzn.loc['20121110':'20121115','Open']"
   ]
  },
  {
   "cell_type": "markdown",
   "metadata": {},
   "source": [
    "Фільтрація за допомогою методу .iloc. Параметрами цього методу є номер рядка і номер стовпця. Наприклад, виведемо перший рядок, третій стовпець "
   ]
  },
  {
   "cell_type": "code",
   "execution_count": null,
   "metadata": {},
   "outputs": [],
   "source": [
    "amzn.iloc[0,2]"
   ]
  },
  {
   "cell_type": "markdown",
   "metadata": {},
   "source": [
    "Виводимо зріз за номерами рядків з першого по третій"
   ]
  },
  {
   "cell_type": "code",
   "execution_count": null,
   "metadata": {},
   "outputs": [],
   "source": [
    "amzn.iloc[0:3,2]"
   ]
  },
  {
   "cell_type": "markdown",
   "metadata": {},
   "source": [
    "Вивід зрізу по рядках і стовпцях одночасно"
   ]
  },
  {
   "cell_type": "code",
   "execution_count": null,
   "metadata": {},
   "outputs": [],
   "source": [
    "amzn.iloc[0:3,2:4]"
   ]
  },
  {
   "cell_type": "markdown",
   "metadata": {},
   "source": [
    "Фільтрація методом .index з умовою"
   ]
  },
  {
   "cell_type": "code",
   "execution_count": null,
   "metadata": {},
   "outputs": [],
   "source": [
    "amzn[amzn.index>'20190801']"
   ]
  },
  {
   "cell_type": "markdown",
   "metadata": {},
   "source": [
    "Вивід математичного очікування та дисперсії для стовпчика Volume з застосуванням форматування"
   ]
  },
  {
   "cell_type": "code",
   "execution_count": null,
   "metadata": {},
   "outputs": [],
   "source": [
    "amzn[amzn.Volume>13910300] "
   ]
  },
  {
   "cell_type": "markdown",
   "metadata": {},
   "source": [
    "####  5. Фільтрація з попередніми обчисленнями"
   ]
  },
  {
   "cell_type": "markdown",
   "metadata": {},
   "source": [
    "Обчислення математичного очікування та стандартного відхилення"
   ]
  },
  {
   "cell_type": "code",
   "execution_count": null,
   "metadata": {},
   "outputs": [],
   "source": [
    "print('Mean: %.3f Std: %.3f' % (amzn['Volume'].mean(), amzn['Volume'].std()))"
   ]
  },
  {
   "cell_type": "code",
   "execution_count": null,
   "metadata": {},
   "outputs": [],
   "source": [
    "high = amzn['Volume'].mean()+2*amzn['Volume'].std()"
   ]
  },
  {
   "cell_type": "code",
   "execution_count": null,
   "metadata": {},
   "outputs": [],
   "source": [
    "len(amzn[amzn.Volume>high] )/len(amzn)"
   ]
  },
  {
   "cell_type": "code",
   "execution_count": null,
   "metadata": {},
   "outputs": [],
   "source": [
    "print(amzn['Volume'].mean())"
   ]
  },
  {
   "cell_type": "markdown",
   "metadata": {},
   "source": [
    "#### 6. Додавання стовпців до даних"
   ]
  },
  {
   "cell_type": "markdown",
   "metadata": {},
   "source": [
    "Обрахуємо відсоток, на який змінюється ціна акцій на момент закриття біржі у порівнянні з попереднім днем. Результат записуємо у новий стовпчик таблиці"
   ]
  },
  {
   "cell_type": "code",
   "execution_count": null,
   "metadata": {},
   "outputs": [],
   "source": [
    "amzn['percent'] = amzn.Close.pct_change()"
   ]
  },
  {
   "cell_type": "code",
   "execution_count": null,
   "metadata": {},
   "outputs": [],
   "source": [
    "amzn.head()"
   ]
  },
  {
   "cell_type": "markdown",
   "metadata": {},
   "source": [
    "####  7. Нарощування даних"
   ]
  },
  {
   "cell_type": "markdown",
   "metadata": {},
   "source": [
    "Сформуємо набри даних для Google та Amazon за березень 2019 року"
   ]
  },
  {
   "cell_type": "code",
   "execution_count": null,
   "metadata": {},
   "outputs": [],
   "source": [
    "goog19 = goog.loc['2019-03']\n",
    "amzn19 = amzn.loc['2019-03']"
   ]
  },
  {
   "cell_type": "code",
   "execution_count": null,
   "metadata": {},
   "outputs": [],
   "source": [
    "goog19.append(amzn19, sort=False).head()"
   ]
  },
  {
   "cell_type": "markdown",
   "metadata": {},
   "source": [
    "Стовпчик 'percent' містить значення NaN. Відповідні значення не були обраховані для набору goog. Тому  дані  відсутні в наборі goog19. Цей факт можна визначити, скориставшись методом .info()"
   ]
  },
  {
   "cell_type": "code",
   "execution_count": null,
   "metadata": {},
   "outputs": [],
   "source": [
    "goog19.append(amzn19, sort=False).info()"
   ]
  },
  {
   "cell_type": "markdown",
   "metadata": {},
   "source": [
    "Ми бачимо, що у стовпчику 'percent' вдвоє менше даних, ніж в інших стовпчиках. Дані 'percent' відсутні у першій половині спільної таблиці. Але у другій половині, яка містить записи з набору amzn, такі дані наявні. Це можна перевірити, вивівши хвіст таблиці."
   ]
  },
  {
   "cell_type": "code",
   "execution_count": null,
   "metadata": {},
   "outputs": [],
   "source": [
    "goog19.append(amzn19, sort=False).tail()"
   ]
  },
  {
   "cell_type": "markdown",
   "metadata": {},
   "source": [
    "#### 8. Порівняння стовпців даних з різних структур типу DataFrame"
   ]
  },
  {
   "cell_type": "markdown",
   "metadata": {},
   "source": [
    "Порівняємо стовпці 'High' для наших наборів даних. Для цього створимо об'єкт high типу DataFrame. Як параметр передаємо словник з ключем, що відповідає набору даних, і значенням, що містить вектор стовпця. Результати роздрукували за допомогою методу .loc або іншого, відомого нам методу. "
   ]
  },
  {
   "cell_type": "code",
   "execution_count": null,
   "metadata": {},
   "outputs": [],
   "source": [
    "high=pd.DataFrame({'AMZN' : amzn.High, 'GOOG' : goog.High})\n",
    "high.loc['20190110':'20190115','AMZN':'GOOG']"
   ]
  },
  {
   "cell_type": "markdown",
   "metadata": {},
   "source": [
    "#### 9. Групування і сортування даних"
   ]
  },
  {
   "cell_type": "markdown",
   "metadata": {},
   "source": [
    "Згрупувати можна записи, якщо вони мають однакові значення у стовпці, по якому проводимо групування. Отримаємо об'єкт зі згрупованими записами. До кожної такої групи можна застосувати функцію. Якщо у нашому наборі застосувати групування до стовпця 'Open', то будуть згруповані всі записи з однаковою ціною акцій на момент відкриття біржі. Застосуємо до згрупованих записів функцію sum()."
   ]
  },
  {
   "cell_type": "code",
   "execution_count": null,
   "metadata": {},
   "outputs": [],
   "source": [
    "a=goog.groupby(['Open']).sum()\n",
    "a.tail()"
   ]
  },
  {
   "cell_type": "markdown",
   "metadata": {},
   "source": [
    "Очевидно, що ми не отримали групування, оскільки кожний день ціна акцій компанії на момент відкриття біржі була різна. Тому група у нас складається з одного запису. Стовпець, по якому проводилося групування, відображено жирним шрифтом."
   ]
  },
  {
   "cell_type": "markdown",
   "metadata": {},
   "source": [
    "Розглянемо узагальнення таблиці з групуванням. Нехай необхідно дізнатися середнє значення продажів у 2019 році помісячно. Для групування даних помісячно використаємо функцію resample() з параметром 'M'."
   ]
  },
  {
   "cell_type": "code",
   "execution_count": null,
   "metadata": {},
   "outputs": [],
   "source": [
    "goog['Volume'][goog.index>'2019'].resample('M').mean()"
   ]
  },
  {
   "cell_type": "markdown",
   "metadata": {},
   "source": [
    "Інформація про середні продажі помісячно виведена в таблицю. Для більшої наглядності ми можемо представити її у вигляді графіка. Для цього додамо ще функцію plot()."
   ]
  },
  {
   "cell_type": "code",
   "execution_count": null,
   "metadata": {},
   "outputs": [],
   "source": [
    "goog['Volume'][goog.index>'2019'].resample('M').mean().plot()"
   ]
  },
  {
   "cell_type": "markdown",
   "metadata": {},
   "source": [
    "#### 10. Кумулятивна сума "
   ]
  },
  {
   "cell_type": "markdown",
   "metadata": {},
   "source": [
    "Розглянемо ще один вид агрегування даних. Нехай необхідно визначити графік поточної зміни мінімальної ціни на акції.\n",
    "Для цього для кожного дня знайдемо відношення ціни акції до її ціни за попередній день."
   ]
  },
  {
   "cell_type": "code",
   "execution_count": null,
   "metadata": {},
   "outputs": [],
   "source": [
    "amzn_change=np.log(amzn.Low / amzn.Low.shift(1))\n",
    "goog_change=np.log(goog.Low / goog.Low.shift(1))"
   ]
  },
  {
   "cell_type": "markdown",
   "metadata": {},
   "source": [
    "Кумулятивну суму цих відношень покажемо на графіку"
   ]
  },
  {
   "cell_type": "code",
   "execution_count": null,
   "metadata": {},
   "outputs": [],
   "source": [
    "amzn_change.cumsum().plot()\n",
    "goog_change.cumsum().plot()"
   ]
  },
  {
   "cell_type": "markdown",
   "metadata": {},
   "source": [
    "#### 11. Створення нового набору даних типу DataFrame і збереження його в csv"
   ]
  },
  {
   "cell_type": "markdown",
   "metadata": {},
   "source": [
    "Створимо новий набір даних типу DataFrame. Цей набір міститиме дані amzn_change і goog.change. Оскільки порівняння відбувається з попереднім днем, то дані за перший день відсутні. Тому формування нашого набору починаємо з другого рядка."
   ]
  },
  {
   "cell_type": "code",
   "execution_count": null,
   "metadata": {},
   "outputs": [],
   "source": [
    "new=pd.DataFrame({'AMZN': amzn_change[1:], 'GOOG': goog_change[1:]})\n",
    "new.head()"
   ]
  },
  {
   "cell_type": "markdown",
   "metadata": {},
   "source": [
    "Записуємо набір даних new у файл 'stocks.csv'"
   ]
  },
  {
   "cell_type": "code",
   "execution_count": null,
   "metadata": {},
   "outputs": [],
   "source": [
    "new.to_csv('stocks.csv')"
   ]
  },
  {
   "cell_type": "markdown",
   "metadata": {},
   "source": [
    "Читаємо дані з файлу 'stocks.csv'"
   ]
  },
  {
   "cell_type": "code",
   "execution_count": null,
   "metadata": {},
   "outputs": [],
   "source": [
    "new1=pd.read_csv('stocks.csv')\n",
    "new1.head()"
   ]
  },
  {
   "cell_type": "markdown",
   "metadata": {},
   "source": [
    "#### 12. Заміна індексного стовпця і видалення стовпців"
   ]
  },
  {
   "cell_type": "markdown",
   "metadata": {},
   "source": [
    "При зчитуванні втрачається індексування по даті. Тому DataFrame додає новий стовпчик з номером, за яким відбувається індексування. Якщо необхідно позбутися цього, то існує два підходи.\n",
    "Перший підхід, який перепризначає індекс:"
   ]
  },
  {
   "cell_type": "code",
   "execution_count": null,
   "metadata": {},
   "outputs": [],
   "source": [
    "new1=pd.read_csv('stocks.csv')\n",
    "new1.index=new1.Date\n",
    "new1.head()"
   ]
  },
  {
   "cell_type": "markdown",
   "metadata": {},
   "source": [
    "Другий підхід з використанням методу drop():"
   ]
  },
  {
   "cell_type": "code",
   "execution_count": null,
   "metadata": {},
   "outputs": [],
   "source": [
    "new1.drop(['Date'],axis=1,inplace=True)\n",
    "new1.head()"
   ]
  },
  {
   "cell_type": "markdown",
   "metadata": {},
   "source": [
    "#### 13. Перейменування стовпців"
   ]
  },
  {
   "cell_type": "code",
   "execution_count": null,
   "metadata": {},
   "outputs": [],
   "source": [
    "new1.rename(columns={'AMZN':'CH_AMZN'},inplace=True)\n",
    "new1.head()"
   ]
  },
  {
   "cell_type": "markdown",
   "metadata": {},
   "source": [
    "#### 14. Використання методу rolling() для обчислення пересувного середнього"
   ]
  },
  {
   "cell_type": "code",
   "execution_count": null,
   "metadata": {},
   "outputs": [],
   "source": [
    "goog_close = pd.DataFrame(goog.Close).resample('W').mean()"
   ]
  },
  {
   "cell_type": "code",
   "execution_count": null,
   "metadata": {},
   "outputs": [],
   "source": [
    "goog_close['MA_7'] = goog_close.Close.rolling(7).mean()\n",
    "goog_close['MA_20'] = goog_close.Close.rolling(20).mean()"
   ]
  },
  {
   "cell_type": "code",
   "execution_count": null,
   "metadata": {},
   "outputs": [],
   "source": [
    "plt.figure(figsize=(15,10))\n",
    "plt.grid(True)\n",
    "plt.plot(goog_close['Close'])\n",
    "plt.plot(goog_close['MA_7'])\n",
    "plt.plot(goog_close['MA_20'])"
   ]
  }
 ],
 "metadata": {
  "kernelspec": {
   "display_name": "Python 3",
   "language": "python",
   "name": "python3"
  },
  "language_info": {
   "codemirror_mode": {
    "name": "ipython",
    "version": 3
   },
   "file_extension": ".py",
   "mimetype": "text/x-python",
   "name": "python",
   "nbconvert_exporter": "python",
   "pygments_lexer": "ipython3",
   "version": "3.7.3"
  }
 },
 "nbformat": 4,
 "nbformat_minor": 2
}
