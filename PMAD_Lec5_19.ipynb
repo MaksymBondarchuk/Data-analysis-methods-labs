{
 "cells": [
  {
   "cell_type": "markdown",
   "metadata": {},
   "source": [
    "# Приклад роботи з Pandas в середовищі для Jupyter notebook"
   ]
  },
  {
   "cell_type": "markdown",
   "metadata": {},
   "source": [
    "#### 1. В середовищі Anaconda (меню:Environments) установіть пакет pandas-datareader"
   ]
  },
  {
   "cell_type": "code",
   "execution_count": 1,
   "metadata": {},
   "outputs": [],
   "source": [
    "import numpy as np\n",
    "import pandas as pd\n",
    "%matplotlib inline\n",
    "import matplotlib.pyplot as plt\n",
    "import pandas_datareader as pdr\n",
    "from statistics import *"
   ]
  },
  {
   "cell_type": "markdown",
   "metadata": {},
   "source": [
    "####  2. Скачуємо інформацію про діяльність Google та Amazon за останні роки (Nasdaq-GS)"
   ]
  },
  {
   "cell_type": "code",
   "execution_count": 2,
   "metadata": {},
   "outputs": [],
   "source": [
    "amzn=pdr.get_data_yahoo('AMZN', '20121101')\n",
    "goog=pdr.get_data_yahoo('GOOG', '2012-11-01')"
   ]
  },
  {
   "cell_type": "markdown",
   "metadata": {},
   "source": [
    "#### 3. Перегляд зчитаних даних: початкова частина, кінцева частина, інформація"
   ]
  },
  {
   "cell_type": "markdown",
   "metadata": {},
   "source": [
    "Зчитування за замовчуванням перших 5 рядків"
   ]
  },
  {
   "cell_type": "code",
   "execution_count": 3,
   "metadata": {},
   "outputs": [
    {
     "data": {
      "text/html": [
       "<div>\n",
       "<style scoped>\n",
       "    .dataframe tbody tr th:only-of-type {\n",
       "        vertical-align: middle;\n",
       "    }\n",
       "\n",
       "    .dataframe tbody tr th {\n",
       "        vertical-align: top;\n",
       "    }\n",
       "\n",
       "    .dataframe thead th {\n",
       "        text-align: right;\n",
       "    }\n",
       "</style>\n",
       "<table border=\"1\" class=\"dataframe\">\n",
       "  <thead>\n",
       "    <tr style=\"text-align: right;\">\n",
       "      <th></th>\n",
       "      <th>High</th>\n",
       "      <th>Low</th>\n",
       "      <th>Open</th>\n",
       "      <th>Close</th>\n",
       "      <th>Volume</th>\n",
       "      <th>Adj Close</th>\n",
       "    </tr>\n",
       "    <tr>\n",
       "      <th>Date</th>\n",
       "      <th></th>\n",
       "      <th></th>\n",
       "      <th></th>\n",
       "      <th></th>\n",
       "      <th></th>\n",
       "      <th></th>\n",
       "    </tr>\n",
       "  </thead>\n",
       "  <tbody>\n",
       "    <tr>\n",
       "      <th>2012-11-01</th>\n",
       "      <td>234.550003</td>\n",
       "      <td>231.339996</td>\n",
       "      <td>234.229996</td>\n",
       "      <td>232.139999</td>\n",
       "      <td>3905100</td>\n",
       "      <td>232.139999</td>\n",
       "    </tr>\n",
       "    <tr>\n",
       "      <th>2012-11-02</th>\n",
       "      <td>237.399994</td>\n",
       "      <td>232.110001</td>\n",
       "      <td>234.009995</td>\n",
       "      <td>232.419998</td>\n",
       "      <td>3374700</td>\n",
       "      <td>232.419998</td>\n",
       "    </tr>\n",
       "    <tr>\n",
       "      <th>2012-11-05</th>\n",
       "      <td>234.830002</td>\n",
       "      <td>230.110001</td>\n",
       "      <td>232.039993</td>\n",
       "      <td>234.330002</td>\n",
       "      <td>1846100</td>\n",
       "      <td>234.330002</td>\n",
       "    </tr>\n",
       "    <tr>\n",
       "      <th>2012-11-06</th>\n",
       "      <td>237.750000</td>\n",
       "      <td>234.449997</td>\n",
       "      <td>235.410004</td>\n",
       "      <td>237.559998</td>\n",
       "      <td>2661300</td>\n",
       "      <td>237.559998</td>\n",
       "    </tr>\n",
       "    <tr>\n",
       "      <th>2012-11-07</th>\n",
       "      <td>235.660004</td>\n",
       "      <td>229.419998</td>\n",
       "      <td>235.649994</td>\n",
       "      <td>232.059998</td>\n",
       "      <td>3624200</td>\n",
       "      <td>232.059998</td>\n",
       "    </tr>\n",
       "  </tbody>\n",
       "</table>\n",
       "</div>"
      ],
      "text/plain": [
       "                  High         Low        Open       Close   Volume  \\\n",
       "Date                                                                  \n",
       "2012-11-01  234.550003  231.339996  234.229996  232.139999  3905100   \n",
       "2012-11-02  237.399994  232.110001  234.009995  232.419998  3374700   \n",
       "2012-11-05  234.830002  230.110001  232.039993  234.330002  1846100   \n",
       "2012-11-06  237.750000  234.449997  235.410004  237.559998  2661300   \n",
       "2012-11-07  235.660004  229.419998  235.649994  232.059998  3624200   \n",
       "\n",
       "             Adj Close  \n",
       "Date                    \n",
       "2012-11-01  232.139999  \n",
       "2012-11-02  232.419998  \n",
       "2012-11-05  234.330002  \n",
       "2012-11-06  237.559998  \n",
       "2012-11-07  232.059998  "
      ]
     },
     "execution_count": 3,
     "metadata": {},
     "output_type": "execute_result"
    }
   ],
   "source": [
    "amzn.head()"
   ]
  },
  {
   "cell_type": "markdown",
   "metadata": {},
   "source": [
    "Зчитування заданої кількості початкових рядків"
   ]
  },
  {
   "cell_type": "code",
   "execution_count": 4,
   "metadata": {},
   "outputs": [
    {
     "data": {
      "text/html": [
       "<div>\n",
       "<style scoped>\n",
       "    .dataframe tbody tr th:only-of-type {\n",
       "        vertical-align: middle;\n",
       "    }\n",
       "\n",
       "    .dataframe tbody tr th {\n",
       "        vertical-align: top;\n",
       "    }\n",
       "\n",
       "    .dataframe thead th {\n",
       "        text-align: right;\n",
       "    }\n",
       "</style>\n",
       "<table border=\"1\" class=\"dataframe\">\n",
       "  <thead>\n",
       "    <tr style=\"text-align: right;\">\n",
       "      <th></th>\n",
       "      <th>High</th>\n",
       "      <th>Low</th>\n",
       "      <th>Open</th>\n",
       "      <th>Close</th>\n",
       "      <th>Volume</th>\n",
       "      <th>Adj Close</th>\n",
       "    </tr>\n",
       "    <tr>\n",
       "      <th>Date</th>\n",
       "      <th></th>\n",
       "      <th></th>\n",
       "      <th></th>\n",
       "      <th></th>\n",
       "      <th></th>\n",
       "      <th></th>\n",
       "    </tr>\n",
       "  </thead>\n",
       "  <tbody>\n",
       "    <tr>\n",
       "      <th>2012-11-01</th>\n",
       "      <td>234.550003</td>\n",
       "      <td>231.339996</td>\n",
       "      <td>234.229996</td>\n",
       "      <td>232.139999</td>\n",
       "      <td>3905100</td>\n",
       "      <td>232.139999</td>\n",
       "    </tr>\n",
       "    <tr>\n",
       "      <th>2012-11-02</th>\n",
       "      <td>237.399994</td>\n",
       "      <td>232.110001</td>\n",
       "      <td>234.009995</td>\n",
       "      <td>232.419998</td>\n",
       "      <td>3374700</td>\n",
       "      <td>232.419998</td>\n",
       "    </tr>\n",
       "    <tr>\n",
       "      <th>2012-11-05</th>\n",
       "      <td>234.830002</td>\n",
       "      <td>230.110001</td>\n",
       "      <td>232.039993</td>\n",
       "      <td>234.330002</td>\n",
       "      <td>1846100</td>\n",
       "      <td>234.330002</td>\n",
       "    </tr>\n",
       "    <tr>\n",
       "      <th>2012-11-06</th>\n",
       "      <td>237.750000</td>\n",
       "      <td>234.449997</td>\n",
       "      <td>235.410004</td>\n",
       "      <td>237.559998</td>\n",
       "      <td>2661300</td>\n",
       "      <td>237.559998</td>\n",
       "    </tr>\n",
       "    <tr>\n",
       "      <th>2012-11-07</th>\n",
       "      <td>235.660004</td>\n",
       "      <td>229.419998</td>\n",
       "      <td>235.649994</td>\n",
       "      <td>232.059998</td>\n",
       "      <td>3624200</td>\n",
       "      <td>232.059998</td>\n",
       "    </tr>\n",
       "    <tr>\n",
       "      <th>2012-11-08</th>\n",
       "      <td>233.449997</td>\n",
       "      <td>227.100006</td>\n",
       "      <td>232.220001</td>\n",
       "      <td>227.350006</td>\n",
       "      <td>2982400</td>\n",
       "      <td>227.350006</td>\n",
       "    </tr>\n",
       "    <tr>\n",
       "      <th>2012-11-09</th>\n",
       "      <td>230.970001</td>\n",
       "      <td>224.600006</td>\n",
       "      <td>226.259995</td>\n",
       "      <td>226.309998</td>\n",
       "      <td>3092500</td>\n",
       "      <td>226.309998</td>\n",
       "    </tr>\n",
       "    <tr>\n",
       "      <th>2012-11-12</th>\n",
       "      <td>229.220001</td>\n",
       "      <td>225.410004</td>\n",
       "      <td>226.589996</td>\n",
       "      <td>226.470001</td>\n",
       "      <td>2128800</td>\n",
       "      <td>226.470001</td>\n",
       "    </tr>\n",
       "    <tr>\n",
       "      <th>2012-11-13</th>\n",
       "      <td>227.899994</td>\n",
       "      <td>224.710007</td>\n",
       "      <td>225.119995</td>\n",
       "      <td>226.600006</td>\n",
       "      <td>2629800</td>\n",
       "      <td>226.600006</td>\n",
       "    </tr>\n",
       "    <tr>\n",
       "      <th>2012-11-14</th>\n",
       "      <td>227.410004</td>\n",
       "      <td>222.509995</td>\n",
       "      <td>226.500000</td>\n",
       "      <td>222.949997</td>\n",
       "      <td>3034100</td>\n",
       "      <td>222.949997</td>\n",
       "    </tr>\n",
       "  </tbody>\n",
       "</table>\n",
       "</div>"
      ],
      "text/plain": [
       "                  High         Low        Open       Close   Volume  \\\n",
       "Date                                                                  \n",
       "2012-11-01  234.550003  231.339996  234.229996  232.139999  3905100   \n",
       "2012-11-02  237.399994  232.110001  234.009995  232.419998  3374700   \n",
       "2012-11-05  234.830002  230.110001  232.039993  234.330002  1846100   \n",
       "2012-11-06  237.750000  234.449997  235.410004  237.559998  2661300   \n",
       "2012-11-07  235.660004  229.419998  235.649994  232.059998  3624200   \n",
       "2012-11-08  233.449997  227.100006  232.220001  227.350006  2982400   \n",
       "2012-11-09  230.970001  224.600006  226.259995  226.309998  3092500   \n",
       "2012-11-12  229.220001  225.410004  226.589996  226.470001  2128800   \n",
       "2012-11-13  227.899994  224.710007  225.119995  226.600006  2629800   \n",
       "2012-11-14  227.410004  222.509995  226.500000  222.949997  3034100   \n",
       "\n",
       "             Adj Close  \n",
       "Date                    \n",
       "2012-11-01  232.139999  \n",
       "2012-11-02  232.419998  \n",
       "2012-11-05  234.330002  \n",
       "2012-11-06  237.559998  \n",
       "2012-11-07  232.059998  \n",
       "2012-11-08  227.350006  \n",
       "2012-11-09  226.309998  \n",
       "2012-11-12  226.470001  \n",
       "2012-11-13  226.600006  \n",
       "2012-11-14  222.949997  "
      ]
     },
     "execution_count": 4,
     "metadata": {},
     "output_type": "execute_result"
    }
   ],
   "source": [
    "amzn.head(10)"
   ]
  },
  {
   "cell_type": "markdown",
   "metadata": {},
   "source": [
    "Зчитування прикінцевих 5 рядків"
   ]
  },
  {
   "cell_type": "code",
   "execution_count": 5,
   "metadata": {},
   "outputs": [
    {
     "data": {
      "text/html": [
       "<div>\n",
       "<style scoped>\n",
       "    .dataframe tbody tr th:only-of-type {\n",
       "        vertical-align: middle;\n",
       "    }\n",
       "\n",
       "    .dataframe tbody tr th {\n",
       "        vertical-align: top;\n",
       "    }\n",
       "\n",
       "    .dataframe thead th {\n",
       "        text-align: right;\n",
       "    }\n",
       "</style>\n",
       "<table border=\"1\" class=\"dataframe\">\n",
       "  <thead>\n",
       "    <tr style=\"text-align: right;\">\n",
       "      <th></th>\n",
       "      <th>High</th>\n",
       "      <th>Low</th>\n",
       "      <th>Open</th>\n",
       "      <th>Close</th>\n",
       "      <th>Volume</th>\n",
       "      <th>Adj Close</th>\n",
       "    </tr>\n",
       "    <tr>\n",
       "      <th>Date</th>\n",
       "      <th></th>\n",
       "      <th></th>\n",
       "      <th></th>\n",
       "      <th></th>\n",
       "      <th></th>\n",
       "      <th></th>\n",
       "    </tr>\n",
       "  </thead>\n",
       "  <tbody>\n",
       "    <tr>\n",
       "      <th>2019-11-18</th>\n",
       "      <td>1753.699951</td>\n",
       "      <td>1722.709961</td>\n",
       "      <td>1738.300049</td>\n",
       "      <td>1752.530029</td>\n",
       "      <td>2839500</td>\n",
       "      <td>1752.530029</td>\n",
       "    </tr>\n",
       "    <tr>\n",
       "      <th>2019-11-19</th>\n",
       "      <td>1760.680054</td>\n",
       "      <td>1743.030029</td>\n",
       "      <td>1756.989990</td>\n",
       "      <td>1752.790039</td>\n",
       "      <td>2270800</td>\n",
       "      <td>1752.790039</td>\n",
       "    </tr>\n",
       "    <tr>\n",
       "      <th>2019-11-20</th>\n",
       "      <td>1762.520020</td>\n",
       "      <td>1734.119995</td>\n",
       "      <td>1749.140015</td>\n",
       "      <td>1745.530029</td>\n",
       "      <td>2790000</td>\n",
       "      <td>1745.530029</td>\n",
       "    </tr>\n",
       "    <tr>\n",
       "      <th>2019-11-21</th>\n",
       "      <td>1746.869995</td>\n",
       "      <td>1730.359985</td>\n",
       "      <td>1743.000000</td>\n",
       "      <td>1734.709961</td>\n",
       "      <td>2658400</td>\n",
       "      <td>1734.709961</td>\n",
       "    </tr>\n",
       "    <tr>\n",
       "      <th>2019-11-22</th>\n",
       "      <td>1746.430054</td>\n",
       "      <td>1731.000000</td>\n",
       "      <td>1739.020020</td>\n",
       "      <td>1745.719971</td>\n",
       "      <td>2477000</td>\n",
       "      <td>1745.719971</td>\n",
       "    </tr>\n",
       "  </tbody>\n",
       "</table>\n",
       "</div>"
      ],
      "text/plain": [
       "                   High          Low         Open        Close   Volume  \\\n",
       "Date                                                                      \n",
       "2019-11-18  1753.699951  1722.709961  1738.300049  1752.530029  2839500   \n",
       "2019-11-19  1760.680054  1743.030029  1756.989990  1752.790039  2270800   \n",
       "2019-11-20  1762.520020  1734.119995  1749.140015  1745.530029  2790000   \n",
       "2019-11-21  1746.869995  1730.359985  1743.000000  1734.709961  2658400   \n",
       "2019-11-22  1746.430054  1731.000000  1739.020020  1745.719971  2477000   \n",
       "\n",
       "              Adj Close  \n",
       "Date                     \n",
       "2019-11-18  1752.530029  \n",
       "2019-11-19  1752.790039  \n",
       "2019-11-20  1745.530029  \n",
       "2019-11-21  1734.709961  \n",
       "2019-11-22  1745.719971  "
      ]
     },
     "execution_count": 5,
     "metadata": {},
     "output_type": "execute_result"
    }
   ],
   "source": [
    "amzn.tail()"
   ]
  },
  {
   "cell_type": "markdown",
   "metadata": {},
   "source": [
    "Інформація про набір даних, яка включає інформацію про кількість записів у стовпцях"
   ]
  },
  {
   "cell_type": "code",
   "execution_count": 6,
   "metadata": {},
   "outputs": [
    {
     "name": "stdout",
     "output_type": "stream",
     "text": [
      "<class 'pandas.core.frame.DataFrame'>\n",
      "DatetimeIndex: 1778 entries, 2012-11-01 to 2019-11-22\n",
      "Data columns (total 6 columns):\n",
      "High         1778 non-null float64\n",
      "Low          1778 non-null float64\n",
      "Open         1778 non-null float64\n",
      "Close        1778 non-null float64\n",
      "Volume       1778 non-null int64\n",
      "Adj Close    1778 non-null float64\n",
      "dtypes: float64(5), int64(1)\n",
      "memory usage: 97.2 KB\n"
     ]
    }
   ],
   "source": [
    "amzn.info()"
   ]
  },
  {
   "cell_type": "markdown",
   "metadata": {},
   "source": [
    "Інформація про два набори даних, які зчитуємо одночасно"
   ]
  },
  {
   "cell_type": "code",
   "execution_count": 7,
   "metadata": {},
   "outputs": [
    {
     "name": "stdout",
     "output_type": "stream",
     "text": [
      "<class 'pandas.core.frame.DataFrame'>\n",
      "DatetimeIndex: 1778 entries, 2012-11-01 to 2019-11-22\n",
      "Data columns (total 6 columns):\n",
      "High         1778 non-null float64\n",
      "Low          1778 non-null float64\n",
      "Open         1778 non-null float64\n",
      "Close        1778 non-null float64\n",
      "Volume       1778 non-null int64\n",
      "Adj Close    1778 non-null float64\n",
      "dtypes: float64(5), int64(1)\n",
      "memory usage: 97.2 KB\n",
      "<class 'pandas.core.frame.DataFrame'>\n",
      "DatetimeIndex: 1778 entries, 2012-11-01 to 2019-11-22\n",
      "Data columns (total 6 columns):\n",
      "High         1778 non-null float64\n",
      "Low          1778 non-null float64\n",
      "Open         1778 non-null float64\n",
      "Close        1778 non-null float64\n",
      "Volume       1778 non-null float64\n",
      "Adj Close    1778 non-null float64\n",
      "dtypes: float64(6)\n",
      "memory usage: 97.2 KB\n",
      "None None\n"
     ]
    }
   ],
   "source": [
    "print(amzn.info(), goog.info())"
   ]
  },
  {
   "cell_type": "markdown",
   "metadata": {},
   "source": [
    "####  4. Фільтрування з використанням .loc,.iloc, index "
   ]
  },
  {
   "cell_type": "markdown",
   "metadata": {},
   "source": [
    "Відкриваємо тільки ціну акцій на момент закриття біржі"
   ]
  },
  {
   "cell_type": "code",
   "execution_count": 8,
   "metadata": {},
   "outputs": [
    {
     "data": {
      "text/plain": [
       "Date\n",
       "2012-11-01     232.139999\n",
       "2012-11-02     232.419998\n",
       "2012-11-05     234.330002\n",
       "2012-11-06     237.559998\n",
       "2012-11-07     232.059998\n",
       "                 ...     \n",
       "2019-11-18    1752.530029\n",
       "2019-11-19    1752.790039\n",
       "2019-11-20    1745.530029\n",
       "2019-11-21    1734.709961\n",
       "2019-11-22    1745.719971\n",
       "Name: Close, Length: 1778, dtype: float64"
      ]
     },
     "execution_count": 8,
     "metadata": {},
     "output_type": "execute_result"
    }
   ],
   "source": [
    "amzn['Close']"
   ]
  },
  {
   "cell_type": "markdown",
   "metadata": {},
   "source": [
    "Для більш точного виводу скористаємось методом .loc з параметрами. Перший параметр - це зріз, який вказує діапазон рядків, а другий параметр - це назва стовпця таблиці"
   ]
  },
  {
   "cell_type": "code",
   "execution_count": 9,
   "metadata": {},
   "outputs": [
    {
     "data": {
      "text/plain": [
       "Date\n",
       "2012-11-12    226.589996\n",
       "2012-11-13    225.119995\n",
       "2012-11-14    226.500000\n",
       "2012-11-15    222.300003\n",
       "Name: Open, dtype: float64"
      ]
     },
     "execution_count": 9,
     "metadata": {},
     "output_type": "execute_result"
    }
   ],
   "source": [
    "amzn.loc['20121110':'20121115','Open']"
   ]
  },
  {
   "cell_type": "markdown",
   "metadata": {},
   "source": [
    "Фільтрація за допомогою методу .iloc. Параметрами цього методу є номер рядка і номер стовпця. Наприклад, виведемо перший рядок, третій стовпець "
   ]
  },
  {
   "cell_type": "code",
   "execution_count": 10,
   "metadata": {},
   "outputs": [
    {
     "data": {
      "text/plain": [
       "234.22999572753906"
      ]
     },
     "execution_count": 10,
     "metadata": {},
     "output_type": "execute_result"
    }
   ],
   "source": [
    "amzn.iloc[0,2]"
   ]
  },
  {
   "cell_type": "markdown",
   "metadata": {},
   "source": [
    "Виводимо зріз за номерами рядків з першого по третій"
   ]
  },
  {
   "cell_type": "code",
   "execution_count": 11,
   "metadata": {},
   "outputs": [
    {
     "data": {
      "text/plain": [
       "Date\n",
       "2012-11-01    234.229996\n",
       "2012-11-02    234.009995\n",
       "2012-11-05    232.039993\n",
       "Name: Open, dtype: float64"
      ]
     },
     "execution_count": 11,
     "metadata": {},
     "output_type": "execute_result"
    }
   ],
   "source": [
    "amzn.iloc[0:3,2]"
   ]
  },
  {
   "cell_type": "markdown",
   "metadata": {},
   "source": [
    "Вивід зрізу по рядках і стовпцях одночасно"
   ]
  },
  {
   "cell_type": "code",
   "execution_count": 12,
   "metadata": {},
   "outputs": [
    {
     "data": {
      "text/html": [
       "<div>\n",
       "<style scoped>\n",
       "    .dataframe tbody tr th:only-of-type {\n",
       "        vertical-align: middle;\n",
       "    }\n",
       "\n",
       "    .dataframe tbody tr th {\n",
       "        vertical-align: top;\n",
       "    }\n",
       "\n",
       "    .dataframe thead th {\n",
       "        text-align: right;\n",
       "    }\n",
       "</style>\n",
       "<table border=\"1\" class=\"dataframe\">\n",
       "  <thead>\n",
       "    <tr style=\"text-align: right;\">\n",
       "      <th></th>\n",
       "      <th>Open</th>\n",
       "      <th>Close</th>\n",
       "    </tr>\n",
       "    <tr>\n",
       "      <th>Date</th>\n",
       "      <th></th>\n",
       "      <th></th>\n",
       "    </tr>\n",
       "  </thead>\n",
       "  <tbody>\n",
       "    <tr>\n",
       "      <th>2012-11-01</th>\n",
       "      <td>234.229996</td>\n",
       "      <td>232.139999</td>\n",
       "    </tr>\n",
       "    <tr>\n",
       "      <th>2012-11-02</th>\n",
       "      <td>234.009995</td>\n",
       "      <td>232.419998</td>\n",
       "    </tr>\n",
       "    <tr>\n",
       "      <th>2012-11-05</th>\n",
       "      <td>232.039993</td>\n",
       "      <td>234.330002</td>\n",
       "    </tr>\n",
       "  </tbody>\n",
       "</table>\n",
       "</div>"
      ],
      "text/plain": [
       "                  Open       Close\n",
       "Date                              \n",
       "2012-11-01  234.229996  232.139999\n",
       "2012-11-02  234.009995  232.419998\n",
       "2012-11-05  232.039993  234.330002"
      ]
     },
     "execution_count": 12,
     "metadata": {},
     "output_type": "execute_result"
    }
   ],
   "source": [
    "amzn.iloc[0:3,2:4]"
   ]
  },
  {
   "cell_type": "markdown",
   "metadata": {},
   "source": [
    "Фільтрація методом .index з умовою"
   ]
  },
  {
   "cell_type": "code",
   "execution_count": 13,
   "metadata": {},
   "outputs": [
    {
     "data": {
      "text/html": [
       "<div>\n",
       "<style scoped>\n",
       "    .dataframe tbody tr th:only-of-type {\n",
       "        vertical-align: middle;\n",
       "    }\n",
       "\n",
       "    .dataframe tbody tr th {\n",
       "        vertical-align: top;\n",
       "    }\n",
       "\n",
       "    .dataframe thead th {\n",
       "        text-align: right;\n",
       "    }\n",
       "</style>\n",
       "<table border=\"1\" class=\"dataframe\">\n",
       "  <thead>\n",
       "    <tr style=\"text-align: right;\">\n",
       "      <th></th>\n",
       "      <th>High</th>\n",
       "      <th>Low</th>\n",
       "      <th>Open</th>\n",
       "      <th>Close</th>\n",
       "      <th>Volume</th>\n",
       "      <th>Adj Close</th>\n",
       "    </tr>\n",
       "    <tr>\n",
       "      <th>Date</th>\n",
       "      <th></th>\n",
       "      <th></th>\n",
       "      <th></th>\n",
       "      <th></th>\n",
       "      <th></th>\n",
       "      <th></th>\n",
       "    </tr>\n",
       "  </thead>\n",
       "  <tbody>\n",
       "    <tr>\n",
       "      <th>2019-08-02</th>\n",
       "      <td>1846.359985</td>\n",
       "      <td>1808.020020</td>\n",
       "      <td>1845.069946</td>\n",
       "      <td>1823.239990</td>\n",
       "      <td>4956200</td>\n",
       "      <td>1823.239990</td>\n",
       "    </tr>\n",
       "    <tr>\n",
       "      <th>2019-08-05</th>\n",
       "      <td>1788.670044</td>\n",
       "      <td>1748.780029</td>\n",
       "      <td>1770.219971</td>\n",
       "      <td>1765.130005</td>\n",
       "      <td>6058200</td>\n",
       "      <td>1765.130005</td>\n",
       "    </tr>\n",
       "    <tr>\n",
       "      <th>2019-08-06</th>\n",
       "      <td>1793.770020</td>\n",
       "      <td>1753.400024</td>\n",
       "      <td>1792.229980</td>\n",
       "      <td>1787.829956</td>\n",
       "      <td>5070300</td>\n",
       "      <td>1787.829956</td>\n",
       "    </tr>\n",
       "    <tr>\n",
       "      <th>2019-08-07</th>\n",
       "      <td>1798.930054</td>\n",
       "      <td>1757.000000</td>\n",
       "      <td>1773.989990</td>\n",
       "      <td>1793.400024</td>\n",
       "      <td>4526900</td>\n",
       "      <td>1793.400024</td>\n",
       "    </tr>\n",
       "    <tr>\n",
       "      <th>2019-08-08</th>\n",
       "      <td>1834.260010</td>\n",
       "      <td>1798.109985</td>\n",
       "      <td>1806.000000</td>\n",
       "      <td>1832.890015</td>\n",
       "      <td>3701200</td>\n",
       "      <td>1832.890015</td>\n",
       "    </tr>\n",
       "    <tr>\n",
       "      <th>...</th>\n",
       "      <td>...</td>\n",
       "      <td>...</td>\n",
       "      <td>...</td>\n",
       "      <td>...</td>\n",
       "      <td>...</td>\n",
       "      <td>...</td>\n",
       "    </tr>\n",
       "    <tr>\n",
       "      <th>2019-11-18</th>\n",
       "      <td>1753.699951</td>\n",
       "      <td>1722.709961</td>\n",
       "      <td>1738.300049</td>\n",
       "      <td>1752.530029</td>\n",
       "      <td>2839500</td>\n",
       "      <td>1752.530029</td>\n",
       "    </tr>\n",
       "    <tr>\n",
       "      <th>2019-11-19</th>\n",
       "      <td>1760.680054</td>\n",
       "      <td>1743.030029</td>\n",
       "      <td>1756.989990</td>\n",
       "      <td>1752.790039</td>\n",
       "      <td>2270800</td>\n",
       "      <td>1752.790039</td>\n",
       "    </tr>\n",
       "    <tr>\n",
       "      <th>2019-11-20</th>\n",
       "      <td>1762.520020</td>\n",
       "      <td>1734.119995</td>\n",
       "      <td>1749.140015</td>\n",
       "      <td>1745.530029</td>\n",
       "      <td>2790000</td>\n",
       "      <td>1745.530029</td>\n",
       "    </tr>\n",
       "    <tr>\n",
       "      <th>2019-11-21</th>\n",
       "      <td>1746.869995</td>\n",
       "      <td>1730.359985</td>\n",
       "      <td>1743.000000</td>\n",
       "      <td>1734.709961</td>\n",
       "      <td>2658400</td>\n",
       "      <td>1734.709961</td>\n",
       "    </tr>\n",
       "    <tr>\n",
       "      <th>2019-11-22</th>\n",
       "      <td>1746.430054</td>\n",
       "      <td>1731.000000</td>\n",
       "      <td>1739.020020</td>\n",
       "      <td>1745.719971</td>\n",
       "      <td>2477000</td>\n",
       "      <td>1745.719971</td>\n",
       "    </tr>\n",
       "  </tbody>\n",
       "</table>\n",
       "<p>80 rows × 6 columns</p>\n",
       "</div>"
      ],
      "text/plain": [
       "                   High          Low         Open        Close   Volume  \\\n",
       "Date                                                                      \n",
       "2019-08-02  1846.359985  1808.020020  1845.069946  1823.239990  4956200   \n",
       "2019-08-05  1788.670044  1748.780029  1770.219971  1765.130005  6058200   \n",
       "2019-08-06  1793.770020  1753.400024  1792.229980  1787.829956  5070300   \n",
       "2019-08-07  1798.930054  1757.000000  1773.989990  1793.400024  4526900   \n",
       "2019-08-08  1834.260010  1798.109985  1806.000000  1832.890015  3701200   \n",
       "...                 ...          ...          ...          ...      ...   \n",
       "2019-11-18  1753.699951  1722.709961  1738.300049  1752.530029  2839500   \n",
       "2019-11-19  1760.680054  1743.030029  1756.989990  1752.790039  2270800   \n",
       "2019-11-20  1762.520020  1734.119995  1749.140015  1745.530029  2790000   \n",
       "2019-11-21  1746.869995  1730.359985  1743.000000  1734.709961  2658400   \n",
       "2019-11-22  1746.430054  1731.000000  1739.020020  1745.719971  2477000   \n",
       "\n",
       "              Adj Close  \n",
       "Date                     \n",
       "2019-08-02  1823.239990  \n",
       "2019-08-05  1765.130005  \n",
       "2019-08-06  1787.829956  \n",
       "2019-08-07  1793.400024  \n",
       "2019-08-08  1832.890015  \n",
       "...                 ...  \n",
       "2019-11-18  1752.530029  \n",
       "2019-11-19  1752.790039  \n",
       "2019-11-20  1745.530029  \n",
       "2019-11-21  1734.709961  \n",
       "2019-11-22  1745.719971  \n",
       "\n",
       "[80 rows x 6 columns]"
      ]
     },
     "execution_count": 13,
     "metadata": {},
     "output_type": "execute_result"
    }
   ],
   "source": [
    "amzn[amzn.index>'20190801']"
   ]
  },
  {
   "cell_type": "markdown",
   "metadata": {},
   "source": [
    "Вивід математичного очікування та дисперсії для стовпчика Volume з застосуванням форматування"
   ]
  },
  {
   "cell_type": "code",
   "execution_count": 14,
   "metadata": {},
   "outputs": [
    {
     "data": {
      "text/html": [
       "<div>\n",
       "<style scoped>\n",
       "    .dataframe tbody tr th:only-of-type {\n",
       "        vertical-align: middle;\n",
       "    }\n",
       "\n",
       "    .dataframe tbody tr th {\n",
       "        vertical-align: top;\n",
       "    }\n",
       "\n",
       "    .dataframe thead th {\n",
       "        text-align: right;\n",
       "    }\n",
       "</style>\n",
       "<table border=\"1\" class=\"dataframe\">\n",
       "  <thead>\n",
       "    <tr style=\"text-align: right;\">\n",
       "      <th></th>\n",
       "      <th>High</th>\n",
       "      <th>Low</th>\n",
       "      <th>Open</th>\n",
       "      <th>Close</th>\n",
       "      <th>Volume</th>\n",
       "      <th>Adj Close</th>\n",
       "    </tr>\n",
       "    <tr>\n",
       "      <th>Date</th>\n",
       "      <th></th>\n",
       "      <th></th>\n",
       "      <th></th>\n",
       "      <th></th>\n",
       "      <th></th>\n",
       "      <th></th>\n",
       "    </tr>\n",
       "  </thead>\n",
       "  <tbody>\n",
       "    <tr>\n",
       "      <th>2013-04-26</th>\n",
       "      <td>272.019989</td>\n",
       "      <td>252.809998</td>\n",
       "      <td>269.970001</td>\n",
       "      <td>254.809998</td>\n",
       "      <td>14030000</td>\n",
       "      <td>254.809998</td>\n",
       "    </tr>\n",
       "    <tr>\n",
       "      <th>2014-01-31</th>\n",
       "      <td>375.450012</td>\n",
       "      <td>357.760010</td>\n",
       "      <td>371.760010</td>\n",
       "      <td>358.690002</td>\n",
       "      <td>16154800</td>\n",
       "      <td>358.690002</td>\n",
       "    </tr>\n",
       "    <tr>\n",
       "      <th>2014-04-25</th>\n",
       "      <td>316.489990</td>\n",
       "      <td>302.709991</td>\n",
       "      <td>316.250000</td>\n",
       "      <td>303.829987</td>\n",
       "      <td>16180200</td>\n",
       "      <td>303.829987</td>\n",
       "    </tr>\n",
       "    <tr>\n",
       "      <th>2014-04-28</th>\n",
       "      <td>304.390015</td>\n",
       "      <td>288.000000</td>\n",
       "      <td>304.000000</td>\n",
       "      <td>296.579987</td>\n",
       "      <td>14479800</td>\n",
       "      <td>296.579987</td>\n",
       "    </tr>\n",
       "    <tr>\n",
       "      <th>2014-07-25</th>\n",
       "      <td>324.869995</td>\n",
       "      <td>314.760010</td>\n",
       "      <td>317.299988</td>\n",
       "      <td>324.010010</td>\n",
       "      <td>17846500</td>\n",
       "      <td>324.010010</td>\n",
       "    </tr>\n",
       "    <tr>\n",
       "      <th>2014-10-24</th>\n",
       "      <td>293.809998</td>\n",
       "      <td>284.000000</td>\n",
       "      <td>284.399994</td>\n",
       "      <td>287.059998</td>\n",
       "      <td>19801100</td>\n",
       "      <td>287.059998</td>\n",
       "    </tr>\n",
       "    <tr>\n",
       "      <th>2015-01-30</th>\n",
       "      <td>359.500000</td>\n",
       "      <td>340.739990</td>\n",
       "      <td>346.320007</td>\n",
       "      <td>354.529999</td>\n",
       "      <td>23856100</td>\n",
       "      <td>354.529999</td>\n",
       "    </tr>\n",
       "    <tr>\n",
       "      <th>2015-04-24</th>\n",
       "      <td>452.649994</td>\n",
       "      <td>439.000000</td>\n",
       "      <td>439.000000</td>\n",
       "      <td>445.100006</td>\n",
       "      <td>17176900</td>\n",
       "      <td>445.100006</td>\n",
       "    </tr>\n",
       "    <tr>\n",
       "      <th>2015-07-24</th>\n",
       "      <td>580.570007</td>\n",
       "      <td>529.349976</td>\n",
       "      <td>578.989990</td>\n",
       "      <td>529.419983</td>\n",
       "      <td>21909400</td>\n",
       "      <td>529.419983</td>\n",
       "    </tr>\n",
       "    <tr>\n",
       "      <th>2016-01-28</th>\n",
       "      <td>638.059998</td>\n",
       "      <td>597.549988</td>\n",
       "      <td>608.369995</td>\n",
       "      <td>635.349976</td>\n",
       "      <td>14015200</td>\n",
       "      <td>635.349976</td>\n",
       "    </tr>\n",
       "    <tr>\n",
       "      <th>2016-01-29</th>\n",
       "      <td>593.000000</td>\n",
       "      <td>570.000000</td>\n",
       "      <td>571.979980</td>\n",
       "      <td>587.000000</td>\n",
       "      <td>14677600</td>\n",
       "      <td>587.000000</td>\n",
       "    </tr>\n",
       "    <tr>\n",
       "      <th>2017-10-27</th>\n",
       "      <td>1105.579956</td>\n",
       "      <td>1050.550049</td>\n",
       "      <td>1058.140015</td>\n",
       "      <td>1100.949951</td>\n",
       "      <td>16565000</td>\n",
       "      <td>1100.949951</td>\n",
       "    </tr>\n",
       "    <tr>\n",
       "      <th>2018-02-09</th>\n",
       "      <td>1383.500000</td>\n",
       "      <td>1265.930054</td>\n",
       "      <td>1373.489990</td>\n",
       "      <td>1339.599976</td>\n",
       "      <td>14141500</td>\n",
       "      <td>1339.599976</td>\n",
       "    </tr>\n",
       "    <tr>\n",
       "      <th>2018-10-11</th>\n",
       "      <td>1755.400024</td>\n",
       "      <td>1685.099976</td>\n",
       "      <td>1724.000000</td>\n",
       "      <td>1719.359985</td>\n",
       "      <td>13935900</td>\n",
       "      <td>1719.359985</td>\n",
       "    </tr>\n",
       "    <tr>\n",
       "      <th>2018-10-26</th>\n",
       "      <td>1698.459961</td>\n",
       "      <td>1603.000000</td>\n",
       "      <td>1649.589966</td>\n",
       "      <td>1642.810059</td>\n",
       "      <td>14963800</td>\n",
       "      <td>1642.810059</td>\n",
       "    </tr>\n",
       "  </tbody>\n",
       "</table>\n",
       "</div>"
      ],
      "text/plain": [
       "                   High          Low         Open        Close    Volume  \\\n",
       "Date                                                                       \n",
       "2013-04-26   272.019989   252.809998   269.970001   254.809998  14030000   \n",
       "2014-01-31   375.450012   357.760010   371.760010   358.690002  16154800   \n",
       "2014-04-25   316.489990   302.709991   316.250000   303.829987  16180200   \n",
       "2014-04-28   304.390015   288.000000   304.000000   296.579987  14479800   \n",
       "2014-07-25   324.869995   314.760010   317.299988   324.010010  17846500   \n",
       "2014-10-24   293.809998   284.000000   284.399994   287.059998  19801100   \n",
       "2015-01-30   359.500000   340.739990   346.320007   354.529999  23856100   \n",
       "2015-04-24   452.649994   439.000000   439.000000   445.100006  17176900   \n",
       "2015-07-24   580.570007   529.349976   578.989990   529.419983  21909400   \n",
       "2016-01-28   638.059998   597.549988   608.369995   635.349976  14015200   \n",
       "2016-01-29   593.000000   570.000000   571.979980   587.000000  14677600   \n",
       "2017-10-27  1105.579956  1050.550049  1058.140015  1100.949951  16565000   \n",
       "2018-02-09  1383.500000  1265.930054  1373.489990  1339.599976  14141500   \n",
       "2018-10-11  1755.400024  1685.099976  1724.000000  1719.359985  13935900   \n",
       "2018-10-26  1698.459961  1603.000000  1649.589966  1642.810059  14963800   \n",
       "\n",
       "              Adj Close  \n",
       "Date                     \n",
       "2013-04-26   254.809998  \n",
       "2014-01-31   358.690002  \n",
       "2014-04-25   303.829987  \n",
       "2014-04-28   296.579987  \n",
       "2014-07-25   324.010010  \n",
       "2014-10-24   287.059998  \n",
       "2015-01-30   354.529999  \n",
       "2015-04-24   445.100006  \n",
       "2015-07-24   529.419983  \n",
       "2016-01-28   635.349976  \n",
       "2016-01-29   587.000000  \n",
       "2017-10-27  1100.949951  \n",
       "2018-02-09  1339.599976  \n",
       "2018-10-11  1719.359985  \n",
       "2018-10-26  1642.810059  "
      ]
     },
     "execution_count": 14,
     "metadata": {},
     "output_type": "execute_result"
    }
   ],
   "source": [
    "amzn[amzn.Volume>13910300] "
   ]
  },
  {
   "cell_type": "markdown",
   "metadata": {},
   "source": [
    "####  5. Фільтрація з попередніми обчисленнями"
   ]
  },
  {
   "cell_type": "markdown",
   "metadata": {},
   "source": [
    "Обчислення математичного очікування та стандартного відхилення"
   ]
  },
  {
   "cell_type": "code",
   "execution_count": 15,
   "metadata": {},
   "outputs": [
    {
     "name": "stdout",
     "output_type": "stream",
     "text": [
      "Mean: 3991223.847 Std: 2238522.483\n"
     ]
    }
   ],
   "source": [
    "print('Mean: %.3f Std: %.3f' % (amzn['Volume'].mean(), amzn['Volume'].std()))"
   ]
  },
  {
   "cell_type": "code",
   "execution_count": 16,
   "metadata": {},
   "outputs": [],
   "source": [
    "high = amzn['Volume'].mean()+2*amzn['Volume'].std()"
   ]
  },
  {
   "cell_type": "code",
   "execution_count": 17,
   "metadata": {},
   "outputs": [
    {
     "data": {
      "text/plain": [
       "0.04499437570303712"
      ]
     },
     "execution_count": 17,
     "metadata": {},
     "output_type": "execute_result"
    }
   ],
   "source": [
    "len(amzn[amzn.Volume>high] )/len(amzn)"
   ]
  },
  {
   "cell_type": "code",
   "execution_count": 18,
   "metadata": {},
   "outputs": [
    {
     "name": "stdout",
     "output_type": "stream",
     "text": [
      "3991223.8470191224\n"
     ]
    }
   ],
   "source": [
    "print(amzn['Volume'].mean())"
   ]
  },
  {
   "cell_type": "markdown",
   "metadata": {},
   "source": [
    "#### 6. Додавання стовпців до даних"
   ]
  },
  {
   "cell_type": "markdown",
   "metadata": {},
   "source": [
    "Обрахуємо відсоток, на який змінюється ціна акцій на момент закриття біржі у порівнянні з попереднім днем. Результат записуємо у новий стовпчик таблиці"
   ]
  },
  {
   "cell_type": "code",
   "execution_count": 19,
   "metadata": {},
   "outputs": [],
   "source": [
    "amzn['percent'] = amzn.Close.pct_change()"
   ]
  },
  {
   "cell_type": "code",
   "execution_count": 20,
   "metadata": {},
   "outputs": [
    {
     "data": {
      "text/html": [
       "<div>\n",
       "<style scoped>\n",
       "    .dataframe tbody tr th:only-of-type {\n",
       "        vertical-align: middle;\n",
       "    }\n",
       "\n",
       "    .dataframe tbody tr th {\n",
       "        vertical-align: top;\n",
       "    }\n",
       "\n",
       "    .dataframe thead th {\n",
       "        text-align: right;\n",
       "    }\n",
       "</style>\n",
       "<table border=\"1\" class=\"dataframe\">\n",
       "  <thead>\n",
       "    <tr style=\"text-align: right;\">\n",
       "      <th></th>\n",
       "      <th>High</th>\n",
       "      <th>Low</th>\n",
       "      <th>Open</th>\n",
       "      <th>Close</th>\n",
       "      <th>Volume</th>\n",
       "      <th>Adj Close</th>\n",
       "      <th>percent</th>\n",
       "    </tr>\n",
       "    <tr>\n",
       "      <th>Date</th>\n",
       "      <th></th>\n",
       "      <th></th>\n",
       "      <th></th>\n",
       "      <th></th>\n",
       "      <th></th>\n",
       "      <th></th>\n",
       "      <th></th>\n",
       "    </tr>\n",
       "  </thead>\n",
       "  <tbody>\n",
       "    <tr>\n",
       "      <th>2012-11-01</th>\n",
       "      <td>234.550003</td>\n",
       "      <td>231.339996</td>\n",
       "      <td>234.229996</td>\n",
       "      <td>232.139999</td>\n",
       "      <td>3905100</td>\n",
       "      <td>232.139999</td>\n",
       "      <td>NaN</td>\n",
       "    </tr>\n",
       "    <tr>\n",
       "      <th>2012-11-02</th>\n",
       "      <td>237.399994</td>\n",
       "      <td>232.110001</td>\n",
       "      <td>234.009995</td>\n",
       "      <td>232.419998</td>\n",
       "      <td>3374700</td>\n",
       "      <td>232.419998</td>\n",
       "      <td>0.001206</td>\n",
       "    </tr>\n",
       "    <tr>\n",
       "      <th>2012-11-05</th>\n",
       "      <td>234.830002</td>\n",
       "      <td>230.110001</td>\n",
       "      <td>232.039993</td>\n",
       "      <td>234.330002</td>\n",
       "      <td>1846100</td>\n",
       "      <td>234.330002</td>\n",
       "      <td>0.008218</td>\n",
       "    </tr>\n",
       "    <tr>\n",
       "      <th>2012-11-06</th>\n",
       "      <td>237.750000</td>\n",
       "      <td>234.449997</td>\n",
       "      <td>235.410004</td>\n",
       "      <td>237.559998</td>\n",
       "      <td>2661300</td>\n",
       "      <td>237.559998</td>\n",
       "      <td>0.013784</td>\n",
       "    </tr>\n",
       "    <tr>\n",
       "      <th>2012-11-07</th>\n",
       "      <td>235.660004</td>\n",
       "      <td>229.419998</td>\n",
       "      <td>235.649994</td>\n",
       "      <td>232.059998</td>\n",
       "      <td>3624200</td>\n",
       "      <td>232.059998</td>\n",
       "      <td>-0.023152</td>\n",
       "    </tr>\n",
       "  </tbody>\n",
       "</table>\n",
       "</div>"
      ],
      "text/plain": [
       "                  High         Low        Open       Close   Volume  \\\n",
       "Date                                                                  \n",
       "2012-11-01  234.550003  231.339996  234.229996  232.139999  3905100   \n",
       "2012-11-02  237.399994  232.110001  234.009995  232.419998  3374700   \n",
       "2012-11-05  234.830002  230.110001  232.039993  234.330002  1846100   \n",
       "2012-11-06  237.750000  234.449997  235.410004  237.559998  2661300   \n",
       "2012-11-07  235.660004  229.419998  235.649994  232.059998  3624200   \n",
       "\n",
       "             Adj Close   percent  \n",
       "Date                              \n",
       "2012-11-01  232.139999       NaN  \n",
       "2012-11-02  232.419998  0.001206  \n",
       "2012-11-05  234.330002  0.008218  \n",
       "2012-11-06  237.559998  0.013784  \n",
       "2012-11-07  232.059998 -0.023152  "
      ]
     },
     "execution_count": 20,
     "metadata": {},
     "output_type": "execute_result"
    }
   ],
   "source": [
    "amzn.head()"
   ]
  },
  {
   "cell_type": "markdown",
   "metadata": {},
   "source": [
    "####  7. Нарощування даних"
   ]
  },
  {
   "cell_type": "markdown",
   "metadata": {},
   "source": [
    "Сформуємо набри даних для Google та Amazon за березень 2019 року"
   ]
  },
  {
   "cell_type": "code",
   "execution_count": 21,
   "metadata": {},
   "outputs": [],
   "source": [
    "goog19 = goog.loc['2019-03']\n",
    "amzn19 = amzn.loc['2019-03']"
   ]
  },
  {
   "cell_type": "code",
   "execution_count": 22,
   "metadata": {},
   "outputs": [
    {
     "data": {
      "text/html": [
       "<div>\n",
       "<style scoped>\n",
       "    .dataframe tbody tr th:only-of-type {\n",
       "        vertical-align: middle;\n",
       "    }\n",
       "\n",
       "    .dataframe tbody tr th {\n",
       "        vertical-align: top;\n",
       "    }\n",
       "\n",
       "    .dataframe thead th {\n",
       "        text-align: right;\n",
       "    }\n",
       "</style>\n",
       "<table border=\"1\" class=\"dataframe\">\n",
       "  <thead>\n",
       "    <tr style=\"text-align: right;\">\n",
       "      <th></th>\n",
       "      <th>High</th>\n",
       "      <th>Low</th>\n",
       "      <th>Open</th>\n",
       "      <th>Close</th>\n",
       "      <th>Volume</th>\n",
       "      <th>Adj Close</th>\n",
       "      <th>percent</th>\n",
       "    </tr>\n",
       "    <tr>\n",
       "      <th>Date</th>\n",
       "      <th></th>\n",
       "      <th></th>\n",
       "      <th></th>\n",
       "      <th></th>\n",
       "      <th></th>\n",
       "      <th></th>\n",
       "      <th></th>\n",
       "    </tr>\n",
       "  </thead>\n",
       "  <tbody>\n",
       "    <tr>\n",
       "      <th>2019-03-01</th>\n",
       "      <td>1142.969971</td>\n",
       "      <td>1124.750000</td>\n",
       "      <td>1124.900024</td>\n",
       "      <td>1140.989990</td>\n",
       "      <td>1450300.0</td>\n",
       "      <td>1140.989990</td>\n",
       "      <td>NaN</td>\n",
       "    </tr>\n",
       "    <tr>\n",
       "      <th>2019-03-04</th>\n",
       "      <td>1158.280029</td>\n",
       "      <td>1130.689941</td>\n",
       "      <td>1146.989990</td>\n",
       "      <td>1147.800049</td>\n",
       "      <td>1446000.0</td>\n",
       "      <td>1147.800049</td>\n",
       "      <td>NaN</td>\n",
       "    </tr>\n",
       "    <tr>\n",
       "      <th>2019-03-05</th>\n",
       "      <td>1169.609985</td>\n",
       "      <td>1146.194946</td>\n",
       "      <td>1150.060059</td>\n",
       "      <td>1162.030029</td>\n",
       "      <td>1443200.0</td>\n",
       "      <td>1162.030029</td>\n",
       "      <td>NaN</td>\n",
       "    </tr>\n",
       "    <tr>\n",
       "      <th>2019-03-06</th>\n",
       "      <td>1167.566040</td>\n",
       "      <td>1155.489990</td>\n",
       "      <td>1162.489990</td>\n",
       "      <td>1157.859985</td>\n",
       "      <td>1099300.0</td>\n",
       "      <td>1157.859985</td>\n",
       "      <td>NaN</td>\n",
       "    </tr>\n",
       "    <tr>\n",
       "      <th>2019-03-07</th>\n",
       "      <td>1156.755005</td>\n",
       "      <td>1134.910034</td>\n",
       "      <td>1155.719971</td>\n",
       "      <td>1143.300049</td>\n",
       "      <td>1166600.0</td>\n",
       "      <td>1143.300049</td>\n",
       "      <td>NaN</td>\n",
       "    </tr>\n",
       "  </tbody>\n",
       "</table>\n",
       "</div>"
      ],
      "text/plain": [
       "                   High          Low         Open        Close     Volume  \\\n",
       "Date                                                                        \n",
       "2019-03-01  1142.969971  1124.750000  1124.900024  1140.989990  1450300.0   \n",
       "2019-03-04  1158.280029  1130.689941  1146.989990  1147.800049  1446000.0   \n",
       "2019-03-05  1169.609985  1146.194946  1150.060059  1162.030029  1443200.0   \n",
       "2019-03-06  1167.566040  1155.489990  1162.489990  1157.859985  1099300.0   \n",
       "2019-03-07  1156.755005  1134.910034  1155.719971  1143.300049  1166600.0   \n",
       "\n",
       "              Adj Close  percent  \n",
       "Date                              \n",
       "2019-03-01  1140.989990      NaN  \n",
       "2019-03-04  1147.800049      NaN  \n",
       "2019-03-05  1162.030029      NaN  \n",
       "2019-03-06  1157.859985      NaN  \n",
       "2019-03-07  1143.300049      NaN  "
      ]
     },
     "execution_count": 22,
     "metadata": {},
     "output_type": "execute_result"
    }
   ],
   "source": [
    "goog19.append(amzn19, sort=False).head()"
   ]
  },
  {
   "cell_type": "markdown",
   "metadata": {},
   "source": [
    "Стовпчик 'percent' містить значення NaN. Відповідні значення не були обраховані для набору goog. Тому  дані  відсутні в наборі goog19. Цей факт можна визначити, скориставшись методом .info()"
   ]
  },
  {
   "cell_type": "code",
   "execution_count": 23,
   "metadata": {},
   "outputs": [
    {
     "name": "stdout",
     "output_type": "stream",
     "text": [
      "<class 'pandas.core.frame.DataFrame'>\n",
      "DatetimeIndex: 42 entries, 2019-03-01 to 2019-03-29\n",
      "Data columns (total 7 columns):\n",
      "High         42 non-null float64\n",
      "Low          42 non-null float64\n",
      "Open         42 non-null float64\n",
      "Close        42 non-null float64\n",
      "Volume       42 non-null float64\n",
      "Adj Close    42 non-null float64\n",
      "percent      21 non-null float64\n",
      "dtypes: float64(7)\n",
      "memory usage: 2.6 KB\n"
     ]
    }
   ],
   "source": [
    "goog19.append(amzn19, sort=False).info()"
   ]
  },
  {
   "cell_type": "markdown",
   "metadata": {},
   "source": [
    "Ми бачимо, що у стовпчику 'percent' вдвоє менше даних, ніж в інших стовпчиках. Дані 'percent' відсутні у першій половині спільної таблиці. Але у другій половині, яка містить записи з набору amzn, такі дані наявні. Це можна перевірити, вивівши хвіст таблиці."
   ]
  },
  {
   "cell_type": "code",
   "execution_count": 24,
   "metadata": {},
   "outputs": [
    {
     "data": {
      "text/html": [
       "<div>\n",
       "<style scoped>\n",
       "    .dataframe tbody tr th:only-of-type {\n",
       "        vertical-align: middle;\n",
       "    }\n",
       "\n",
       "    .dataframe tbody tr th {\n",
       "        vertical-align: top;\n",
       "    }\n",
       "\n",
       "    .dataframe thead th {\n",
       "        text-align: right;\n",
       "    }\n",
       "</style>\n",
       "<table border=\"1\" class=\"dataframe\">\n",
       "  <thead>\n",
       "    <tr style=\"text-align: right;\">\n",
       "      <th></th>\n",
       "      <th>High</th>\n",
       "      <th>Low</th>\n",
       "      <th>Open</th>\n",
       "      <th>Close</th>\n",
       "      <th>Volume</th>\n",
       "      <th>Adj Close</th>\n",
       "      <th>percent</th>\n",
       "    </tr>\n",
       "    <tr>\n",
       "      <th>Date</th>\n",
       "      <th></th>\n",
       "      <th></th>\n",
       "      <th></th>\n",
       "      <th></th>\n",
       "      <th></th>\n",
       "      <th></th>\n",
       "      <th></th>\n",
       "    </tr>\n",
       "  </thead>\n",
       "  <tbody>\n",
       "    <tr>\n",
       "      <th>2019-03-25</th>\n",
       "      <td>1782.680054</td>\n",
       "      <td>1747.500000</td>\n",
       "      <td>1757.790039</td>\n",
       "      <td>1774.260010</td>\n",
       "      <td>5103800.0</td>\n",
       "      <td>1774.260010</td>\n",
       "      <td>0.005377</td>\n",
       "    </tr>\n",
       "    <tr>\n",
       "      <th>2019-03-26</th>\n",
       "      <td>1805.770020</td>\n",
       "      <td>1773.359985</td>\n",
       "      <td>1793.000000</td>\n",
       "      <td>1783.760010</td>\n",
       "      <td>4865900.0</td>\n",
       "      <td>1783.760010</td>\n",
       "      <td>0.005354</td>\n",
       "    </tr>\n",
       "    <tr>\n",
       "      <th>2019-03-27</th>\n",
       "      <td>1787.500000</td>\n",
       "      <td>1745.680054</td>\n",
       "      <td>1784.130005</td>\n",
       "      <td>1765.699951</td>\n",
       "      <td>4324800.0</td>\n",
       "      <td>1765.699951</td>\n",
       "      <td>-0.010125</td>\n",
       "    </tr>\n",
       "    <tr>\n",
       "      <th>2019-03-28</th>\n",
       "      <td>1777.930054</td>\n",
       "      <td>1753.469971</td>\n",
       "      <td>1770.000000</td>\n",
       "      <td>1773.420044</td>\n",
       "      <td>3043000.0</td>\n",
       "      <td>1773.420044</td>\n",
       "      <td>0.004372</td>\n",
       "    </tr>\n",
       "    <tr>\n",
       "      <th>2019-03-29</th>\n",
       "      <td>1792.859985</td>\n",
       "      <td>1776.630005</td>\n",
       "      <td>1786.579956</td>\n",
       "      <td>1780.750000</td>\n",
       "      <td>3320800.0</td>\n",
       "      <td>1780.750000</td>\n",
       "      <td>0.004133</td>\n",
       "    </tr>\n",
       "  </tbody>\n",
       "</table>\n",
       "</div>"
      ],
      "text/plain": [
       "                   High          Low         Open        Close     Volume  \\\n",
       "Date                                                                        \n",
       "2019-03-25  1782.680054  1747.500000  1757.790039  1774.260010  5103800.0   \n",
       "2019-03-26  1805.770020  1773.359985  1793.000000  1783.760010  4865900.0   \n",
       "2019-03-27  1787.500000  1745.680054  1784.130005  1765.699951  4324800.0   \n",
       "2019-03-28  1777.930054  1753.469971  1770.000000  1773.420044  3043000.0   \n",
       "2019-03-29  1792.859985  1776.630005  1786.579956  1780.750000  3320800.0   \n",
       "\n",
       "              Adj Close   percent  \n",
       "Date                               \n",
       "2019-03-25  1774.260010  0.005377  \n",
       "2019-03-26  1783.760010  0.005354  \n",
       "2019-03-27  1765.699951 -0.010125  \n",
       "2019-03-28  1773.420044  0.004372  \n",
       "2019-03-29  1780.750000  0.004133  "
      ]
     },
     "execution_count": 24,
     "metadata": {},
     "output_type": "execute_result"
    }
   ],
   "source": [
    "goog19.append(amzn19, sort=False).tail()"
   ]
  },
  {
   "cell_type": "markdown",
   "metadata": {},
   "source": [
    "#### 8. Порівняння стовпців даних з різних структур типу DataFrame"
   ]
  },
  {
   "cell_type": "markdown",
   "metadata": {},
   "source": [
    "Порівняємо стовпці 'High' для наших наборів даних. Для цього створимо об'єкт high типу DataFrame. Як параметр передаємо словник з ключем, що відповідає набору даних, і значенням, що містить вектор стовпця. Результати роздрукували за допомогою методу .loc або іншого, відомого нам методу. "
   ]
  },
  {
   "cell_type": "code",
   "execution_count": 25,
   "metadata": {},
   "outputs": [
    {
     "data": {
      "text/html": [
       "<div>\n",
       "<style scoped>\n",
       "    .dataframe tbody tr th:only-of-type {\n",
       "        vertical-align: middle;\n",
       "    }\n",
       "\n",
       "    .dataframe tbody tr th {\n",
       "        vertical-align: top;\n",
       "    }\n",
       "\n",
       "    .dataframe thead th {\n",
       "        text-align: right;\n",
       "    }\n",
       "</style>\n",
       "<table border=\"1\" class=\"dataframe\">\n",
       "  <thead>\n",
       "    <tr style=\"text-align: right;\">\n",
       "      <th></th>\n",
       "      <th>AMZN</th>\n",
       "      <th>GOOG</th>\n",
       "    </tr>\n",
       "    <tr>\n",
       "      <th>Date</th>\n",
       "      <th></th>\n",
       "      <th></th>\n",
       "    </tr>\n",
       "  </thead>\n",
       "  <tbody>\n",
       "    <tr>\n",
       "      <th>2019-01-10</th>\n",
       "      <td>1663.250000</td>\n",
       "      <td>1071.150024</td>\n",
       "    </tr>\n",
       "    <tr>\n",
       "      <th>2019-01-11</th>\n",
       "      <td>1660.290039</td>\n",
       "      <td>1063.775024</td>\n",
       "    </tr>\n",
       "    <tr>\n",
       "      <th>2019-01-14</th>\n",
       "      <td>1648.199951</td>\n",
       "      <td>1051.530029</td>\n",
       "    </tr>\n",
       "    <tr>\n",
       "      <th>2019-01-15</th>\n",
       "      <td>1675.160034</td>\n",
       "      <td>1080.050049</td>\n",
       "    </tr>\n",
       "  </tbody>\n",
       "</table>\n",
       "</div>"
      ],
      "text/plain": [
       "                   AMZN         GOOG\n",
       "Date                                \n",
       "2019-01-10  1663.250000  1071.150024\n",
       "2019-01-11  1660.290039  1063.775024\n",
       "2019-01-14  1648.199951  1051.530029\n",
       "2019-01-15  1675.160034  1080.050049"
      ]
     },
     "execution_count": 25,
     "metadata": {},
     "output_type": "execute_result"
    }
   ],
   "source": [
    "high=pd.DataFrame({'AMZN' : amzn.High, 'GOOG' : goog.High})\n",
    "high.loc['20190110':'20190115','AMZN':'GOOG']"
   ]
  },
  {
   "cell_type": "markdown",
   "metadata": {},
   "source": [
    "#### 9. Групування і сортування даних"
   ]
  },
  {
   "cell_type": "markdown",
   "metadata": {},
   "source": [
    "Згрупувати можна записи, якщо вони мають однакові значення у стовпці, по якому проводимо групування. Отримаємо об'єкт зі згрупованими записами. До кожної такої групи можна застосувати функцію. Якщо у нашому наборі застосувати групування до стовпця 'Open', то будуть згруповані всі записи з однаковою ціною акцій на момент відкриття біржі. Застосуємо до згрупованих записів функцію sum()."
   ]
  },
  {
   "cell_type": "code",
   "execution_count": null,
   "metadata": {},
   "outputs": [],
   "source": [
    "a=goog.groupby(['Open']).sum()\n",
    "a.tail()"
   ]
  },
  {
   "cell_type": "markdown",
   "metadata": {},
   "source": [
    "Очевидно, що ми не отримали групування, оскільки кожний день ціна акцій компанії на момент відкриття біржі була різна. Тому група у нас складається з одного запису. Стовпець, по якому проводилося групування, відображено жирним шрифтом."
   ]
  },
  {
   "cell_type": "markdown",
   "metadata": {},
   "source": [
    "Розглянемо узагальнення таблиці з групуванням. Нехай необхідно дізнатися середнє значення продажів у 2019 році помісячно. Для групування даних помісячно використаємо функцію resample() з параметром 'M'."
   ]
  },
  {
   "cell_type": "code",
   "execution_count": null,
   "metadata": {},
   "outputs": [],
   "source": [
    "goog['Volume'][goog.index>'2019'].resample('M').mean()"
   ]
  },
  {
   "cell_type": "markdown",
   "metadata": {},
   "source": [
    "Інформація про середні продажі помісячно виведена в таблицю. Для більшої наглядності ми можемо представити її у вигляді графіка. Для цього додамо ще функцію plot()."
   ]
  },
  {
   "cell_type": "code",
   "execution_count": null,
   "metadata": {},
   "outputs": [],
   "source": [
    "goog['Volume'][goog.index>'2019'].resample('M').mean().plot()"
   ]
  },
  {
   "cell_type": "markdown",
   "metadata": {},
   "source": [
    "#### 10. Кумулятивна сума "
   ]
  },
  {
   "cell_type": "markdown",
   "metadata": {},
   "source": [
    "Розглянемо ще один вид агрегування даних. Нехай необхідно визначити графік поточної зміни мінімальної ціни на акції.\n",
    "Для цього для кожного дня знайдемо відношення ціни акції до її ціни за попередній день."
   ]
  },
  {
   "cell_type": "code",
   "execution_count": null,
   "metadata": {},
   "outputs": [],
   "source": [
    "amzn_change=np.log(amzn.Low / amzn.Low.shift(1))\n",
    "goog_change=np.log(goog.Low / goog.Low.shift(1))"
   ]
  },
  {
   "cell_type": "markdown",
   "metadata": {},
   "source": [
    "Кумулятивну суму цих відношень покажемо на графіку"
   ]
  },
  {
   "cell_type": "code",
   "execution_count": null,
   "metadata": {},
   "outputs": [],
   "source": [
    "amzn_change.cumsum().plot()\n",
    "goog_change.cumsum().plot()"
   ]
  },
  {
   "cell_type": "markdown",
   "metadata": {},
   "source": [
    "#### 11. Створення нового набору даних типу DataFrame і збереження його в csv"
   ]
  },
  {
   "cell_type": "markdown",
   "metadata": {},
   "source": [
    "Створимо новий набір даних типу DataFrame. Цей набір міститиме дані amzn_change і goog.change. Оскільки порівняння відбувається з попереднім днем, то дані за перший день відсутні. Тому формування нашого набору починаємо з другого рядка."
   ]
  },
  {
   "cell_type": "code",
   "execution_count": null,
   "metadata": {},
   "outputs": [],
   "source": [
    "new=pd.DataFrame({'AMZN': amzn_change[1:], 'GOOG': goog_change[1:]})\n",
    "new.head()"
   ]
  },
  {
   "cell_type": "markdown",
   "metadata": {},
   "source": [
    "Записуємо набір даних new у файл 'stocks.csv'"
   ]
  },
  {
   "cell_type": "code",
   "execution_count": null,
   "metadata": {},
   "outputs": [],
   "source": [
    "new.to_csv('stocks.csv')"
   ]
  },
  {
   "cell_type": "markdown",
   "metadata": {},
   "source": [
    "Читаємо дані з файлу 'stocks.csv'"
   ]
  },
  {
   "cell_type": "code",
   "execution_count": null,
   "metadata": {},
   "outputs": [],
   "source": [
    "new1=pd.read_csv('stocks.csv')\n",
    "new1.head()"
   ]
  },
  {
   "cell_type": "markdown",
   "metadata": {},
   "source": [
    "#### 12. Заміна індексного стовпця і видалення стовпців"
   ]
  },
  {
   "cell_type": "markdown",
   "metadata": {},
   "source": [
    "При зчитуванні втрачається індексування по даті. Тому DataFrame додає новий стовпчик з номером, за яким відбувається індексування. Якщо необхідно позбутися цього, то існує два підходи.\n",
    "Перший підхід, який перепризначає індекс:"
   ]
  },
  {
   "cell_type": "code",
   "execution_count": null,
   "metadata": {},
   "outputs": [],
   "source": [
    "new1=pd.read_csv('stocks.csv')\n",
    "new1.index=new1.Date\n",
    "new1.head()"
   ]
  },
  {
   "cell_type": "markdown",
   "metadata": {},
   "source": [
    "Другий підхід з використанням методу drop():"
   ]
  },
  {
   "cell_type": "code",
   "execution_count": null,
   "metadata": {},
   "outputs": [],
   "source": [
    "new1.drop(['Date'],axis=1,inplace=True)\n",
    "new1.head()"
   ]
  },
  {
   "cell_type": "markdown",
   "metadata": {},
   "source": [
    "#### 13. Перейменування стовпців"
   ]
  },
  {
   "cell_type": "code",
   "execution_count": null,
   "metadata": {},
   "outputs": [],
   "source": [
    "new1.rename(columns={'AMZN':'CH_AMZN'},inplace=True)\n",
    "new1.head()"
   ]
  },
  {
   "cell_type": "markdown",
   "metadata": {},
   "source": [
    "#### 14. Використання методу rolling() для обчислення пересувного середнього"
   ]
  },
  {
   "cell_type": "code",
   "execution_count": null,
   "metadata": {},
   "outputs": [],
   "source": [
    "goog_close = pd.DataFrame(goog.Close).resample('W').mean()"
   ]
  },
  {
   "cell_type": "code",
   "execution_count": null,
   "metadata": {},
   "outputs": [],
   "source": [
    "goog_close['MA_7'] = goog_close.Close.rolling(7).mean()\n",
    "goog_close['MA_20'] = goog_close.Close.rolling(20).mean()"
   ]
  },
  {
   "cell_type": "code",
   "execution_count": null,
   "metadata": {},
   "outputs": [],
   "source": [
    "plt.figure(figsize=(15,10))\n",
    "plt.grid(True)\n",
    "plt.plot(goog_close['Close'])\n",
    "plt.plot(goog_close['MA_7'])\n",
    "plt.plot(goog_close['MA_20'])"
   ]
  }
 ],
 "metadata": {
  "kernelspec": {
   "display_name": "Python 3",
   "language": "python",
   "name": "python3"
  },
  "language_info": {
   "codemirror_mode": {
    "name": "ipython",
    "version": 3
   },
   "file_extension": ".py",
   "mimetype": "text/x-python",
   "name": "python",
   "nbconvert_exporter": "python",
   "pygments_lexer": "ipython3",
   "version": "3.7.5"
  }
 },
 "nbformat": 4,
 "nbformat_minor": 2
}
